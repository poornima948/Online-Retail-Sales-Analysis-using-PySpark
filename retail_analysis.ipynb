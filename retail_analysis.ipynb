{
  "nbformat": 4,
  "nbformat_minor": 0,
  "metadata": {
    "colab": {
      "provenance": []
    },
    "kernelspec": {
      "name": "python3",
      "display_name": "Python 3"
    },
    "language_info": {
      "name": "python"
    }
  },
  "cells": [
    {
      "cell_type": "code",
      "source": [
        "from google.colab import files\n",
        "uploaded = files.upload()\n"
      ],
      "metadata": {
        "colab": {
          "base_uri": "https://localhost:8080/",
          "height": 73
        },
        "id": "ydZAD76a9ret",
        "outputId": "beab2a40-67e5-4a2f-f668-75b52f3a324e"
      },
      "execution_count": 1,
      "outputs": [
        {
          "output_type": "display_data",
          "data": {
            "text/plain": [
              "<IPython.core.display.HTML object>"
            ],
            "text/html": [
              "\n",
              "     <input type=\"file\" id=\"files-25b4d5c2-54bf-4801-aa02-8394d45e3928\" name=\"files[]\" multiple disabled\n",
              "        style=\"border:none\" />\n",
              "     <output id=\"result-25b4d5c2-54bf-4801-aa02-8394d45e3928\">\n",
              "      Upload widget is only available when the cell has been executed in the\n",
              "      current browser session. Please rerun this cell to enable.\n",
              "      </output>\n",
              "      <script>// Copyright 2017 Google LLC\n",
              "//\n",
              "// Licensed under the Apache License, Version 2.0 (the \"License\");\n",
              "// you may not use this file except in compliance with the License.\n",
              "// You may obtain a copy of the License at\n",
              "//\n",
              "//      http://www.apache.org/licenses/LICENSE-2.0\n",
              "//\n",
              "// Unless required by applicable law or agreed to in writing, software\n",
              "// distributed under the License is distributed on an \"AS IS\" BASIS,\n",
              "// WITHOUT WARRANTIES OR CONDITIONS OF ANY KIND, either express or implied.\n",
              "// See the License for the specific language governing permissions and\n",
              "// limitations under the License.\n",
              "\n",
              "/**\n",
              " * @fileoverview Helpers for google.colab Python module.\n",
              " */\n",
              "(function(scope) {\n",
              "function span(text, styleAttributes = {}) {\n",
              "  const element = document.createElement('span');\n",
              "  element.textContent = text;\n",
              "  for (const key of Object.keys(styleAttributes)) {\n",
              "    element.style[key] = styleAttributes[key];\n",
              "  }\n",
              "  return element;\n",
              "}\n",
              "\n",
              "// Max number of bytes which will be uploaded at a time.\n",
              "const MAX_PAYLOAD_SIZE = 100 * 1024;\n",
              "\n",
              "function _uploadFiles(inputId, outputId) {\n",
              "  const steps = uploadFilesStep(inputId, outputId);\n",
              "  const outputElement = document.getElementById(outputId);\n",
              "  // Cache steps on the outputElement to make it available for the next call\n",
              "  // to uploadFilesContinue from Python.\n",
              "  outputElement.steps = steps;\n",
              "\n",
              "  return _uploadFilesContinue(outputId);\n",
              "}\n",
              "\n",
              "// This is roughly an async generator (not supported in the browser yet),\n",
              "// where there are multiple asynchronous steps and the Python side is going\n",
              "// to poll for completion of each step.\n",
              "// This uses a Promise to block the python side on completion of each step,\n",
              "// then passes the result of the previous step as the input to the next step.\n",
              "function _uploadFilesContinue(outputId) {\n",
              "  const outputElement = document.getElementById(outputId);\n",
              "  const steps = outputElement.steps;\n",
              "\n",
              "  const next = steps.next(outputElement.lastPromiseValue);\n",
              "  return Promise.resolve(next.value.promise).then((value) => {\n",
              "    // Cache the last promise value to make it available to the next\n",
              "    // step of the generator.\n",
              "    outputElement.lastPromiseValue = value;\n",
              "    return next.value.response;\n",
              "  });\n",
              "}\n",
              "\n",
              "/**\n",
              " * Generator function which is called between each async step of the upload\n",
              " * process.\n",
              " * @param {string} inputId Element ID of the input file picker element.\n",
              " * @param {string} outputId Element ID of the output display.\n",
              " * @return {!Iterable<!Object>} Iterable of next steps.\n",
              " */\n",
              "function* uploadFilesStep(inputId, outputId) {\n",
              "  const inputElement = document.getElementById(inputId);\n",
              "  inputElement.disabled = false;\n",
              "\n",
              "  const outputElement = document.getElementById(outputId);\n",
              "  outputElement.innerHTML = '';\n",
              "\n",
              "  const pickedPromise = new Promise((resolve) => {\n",
              "    inputElement.addEventListener('change', (e) => {\n",
              "      resolve(e.target.files);\n",
              "    });\n",
              "  });\n",
              "\n",
              "  const cancel = document.createElement('button');\n",
              "  inputElement.parentElement.appendChild(cancel);\n",
              "  cancel.textContent = 'Cancel upload';\n",
              "  const cancelPromise = new Promise((resolve) => {\n",
              "    cancel.onclick = () => {\n",
              "      resolve(null);\n",
              "    };\n",
              "  });\n",
              "\n",
              "  // Wait for the user to pick the files.\n",
              "  const files = yield {\n",
              "    promise: Promise.race([pickedPromise, cancelPromise]),\n",
              "    response: {\n",
              "      action: 'starting',\n",
              "    }\n",
              "  };\n",
              "\n",
              "  cancel.remove();\n",
              "\n",
              "  // Disable the input element since further picks are not allowed.\n",
              "  inputElement.disabled = true;\n",
              "\n",
              "  if (!files) {\n",
              "    return {\n",
              "      response: {\n",
              "        action: 'complete',\n",
              "      }\n",
              "    };\n",
              "  }\n",
              "\n",
              "  for (const file of files) {\n",
              "    const li = document.createElement('li');\n",
              "    li.append(span(file.name, {fontWeight: 'bold'}));\n",
              "    li.append(span(\n",
              "        `(${file.type || 'n/a'}) - ${file.size} bytes, ` +\n",
              "        `last modified: ${\n",
              "            file.lastModifiedDate ? file.lastModifiedDate.toLocaleDateString() :\n",
              "                                    'n/a'} - `));\n",
              "    const percent = span('0% done');\n",
              "    li.appendChild(percent);\n",
              "\n",
              "    outputElement.appendChild(li);\n",
              "\n",
              "    const fileDataPromise = new Promise((resolve) => {\n",
              "      const reader = new FileReader();\n",
              "      reader.onload = (e) => {\n",
              "        resolve(e.target.result);\n",
              "      };\n",
              "      reader.readAsArrayBuffer(file);\n",
              "    });\n",
              "    // Wait for the data to be ready.\n",
              "    let fileData = yield {\n",
              "      promise: fileDataPromise,\n",
              "      response: {\n",
              "        action: 'continue',\n",
              "      }\n",
              "    };\n",
              "\n",
              "    // Use a chunked sending to avoid message size limits. See b/62115660.\n",
              "    let position = 0;\n",
              "    do {\n",
              "      const length = Math.min(fileData.byteLength - position, MAX_PAYLOAD_SIZE);\n",
              "      const chunk = new Uint8Array(fileData, position, length);\n",
              "      position += length;\n",
              "\n",
              "      const base64 = btoa(String.fromCharCode.apply(null, chunk));\n",
              "      yield {\n",
              "        response: {\n",
              "          action: 'append',\n",
              "          file: file.name,\n",
              "          data: base64,\n",
              "        },\n",
              "      };\n",
              "\n",
              "      let percentDone = fileData.byteLength === 0 ?\n",
              "          100 :\n",
              "          Math.round((position / fileData.byteLength) * 100);\n",
              "      percent.textContent = `${percentDone}% done`;\n",
              "\n",
              "    } while (position < fileData.byteLength);\n",
              "  }\n",
              "\n",
              "  // All done.\n",
              "  yield {\n",
              "    response: {\n",
              "      action: 'complete',\n",
              "    }\n",
              "  };\n",
              "}\n",
              "\n",
              "scope.google = scope.google || {};\n",
              "scope.google.colab = scope.google.colab || {};\n",
              "scope.google.colab._files = {\n",
              "  _uploadFiles,\n",
              "  _uploadFilesContinue,\n",
              "};\n",
              "})(self);\n",
              "</script> "
            ]
          },
          "metadata": {}
        },
        {
          "output_type": "stream",
          "name": "stdout",
          "text": [
            "Saving Online Retail.xlsx to Online Retail.xlsx\n"
          ]
        }
      ]
    },
    {
      "cell_type": "code",
      "source": [
        "!pip install pyspark openpyxl\n"
      ],
      "metadata": {
        "colab": {
          "base_uri": "https://localhost:8080/"
        },
        "id": "gbQQNAgp9rYe",
        "outputId": "7b38484a-f0ce-4d7c-ee2d-7edcf11bb6de"
      },
      "execution_count": 2,
      "outputs": [
        {
          "output_type": "stream",
          "name": "stdout",
          "text": [
            "Requirement already satisfied: pyspark in /usr/local/lib/python3.11/dist-packages (3.5.1)\n",
            "Requirement already satisfied: openpyxl in /usr/local/lib/python3.11/dist-packages (3.1.5)\n",
            "Requirement already satisfied: py4j==0.10.9.7 in /usr/local/lib/python3.11/dist-packages (from pyspark) (0.10.9.7)\n",
            "Requirement already satisfied: et-xmlfile in /usr/local/lib/python3.11/dist-packages (from openpyxl) (2.0.0)\n"
          ]
        }
      ]
    },
    {
      "cell_type": "code",
      "source": [
        "import pandas as pd\n",
        "\n",
        "# Read Excel\n",
        "df_excel = pd.read_excel(\"Online Retail.xlsx\")\n",
        "\n",
        "# Quick check\n",
        "df_excel.head()\n"
      ],
      "metadata": {
        "colab": {
          "base_uri": "https://localhost:8080/",
          "height": 206
        },
        "id": "7yPqEjSp9rVI",
        "outputId": "9546588f-ac76-4822-dd34-e62eae813591"
      },
      "execution_count": 3,
      "outputs": [
        {
          "output_type": "execute_result",
          "data": {
            "text/plain": [
              "  InvoiceNo StockCode                          Description  Quantity  \\\n",
              "0    536365    85123A   WHITE HANGING HEART T-LIGHT HOLDER         6   \n",
              "1    536365     71053                  WHITE METAL LANTERN         6   \n",
              "2    536365    84406B       CREAM CUPID HEARTS COAT HANGER         8   \n",
              "3    536365    84029G  KNITTED UNION FLAG HOT WATER BOTTLE         6   \n",
              "4    536365    84029E       RED WOOLLY HOTTIE WHITE HEART.         6   \n",
              "\n",
              "          InvoiceDate  UnitPrice  CustomerID         Country  \n",
              "0 2010-12-01 08:26:00       2.55     17850.0  United Kingdom  \n",
              "1 2010-12-01 08:26:00       3.39     17850.0  United Kingdom  \n",
              "2 2010-12-01 08:26:00       2.75     17850.0  United Kingdom  \n",
              "3 2010-12-01 08:26:00       3.39     17850.0  United Kingdom  \n",
              "4 2010-12-01 08:26:00       3.39     17850.0  United Kingdom  "
            ],
            "text/html": [
              "\n",
              "  <div id=\"df-c400acb5-9571-4a8c-b2f3-1e70af5320c3\" class=\"colab-df-container\">\n",
              "    <div>\n",
              "<style scoped>\n",
              "    .dataframe tbody tr th:only-of-type {\n",
              "        vertical-align: middle;\n",
              "    }\n",
              "\n",
              "    .dataframe tbody tr th {\n",
              "        vertical-align: top;\n",
              "    }\n",
              "\n",
              "    .dataframe thead th {\n",
              "        text-align: right;\n",
              "    }\n",
              "</style>\n",
              "<table border=\"1\" class=\"dataframe\">\n",
              "  <thead>\n",
              "    <tr style=\"text-align: right;\">\n",
              "      <th></th>\n",
              "      <th>InvoiceNo</th>\n",
              "      <th>StockCode</th>\n",
              "      <th>Description</th>\n",
              "      <th>Quantity</th>\n",
              "      <th>InvoiceDate</th>\n",
              "      <th>UnitPrice</th>\n",
              "      <th>CustomerID</th>\n",
              "      <th>Country</th>\n",
              "    </tr>\n",
              "  </thead>\n",
              "  <tbody>\n",
              "    <tr>\n",
              "      <th>0</th>\n",
              "      <td>536365</td>\n",
              "      <td>85123A</td>\n",
              "      <td>WHITE HANGING HEART T-LIGHT HOLDER</td>\n",
              "      <td>6</td>\n",
              "      <td>2010-12-01 08:26:00</td>\n",
              "      <td>2.55</td>\n",
              "      <td>17850.0</td>\n",
              "      <td>United Kingdom</td>\n",
              "    </tr>\n",
              "    <tr>\n",
              "      <th>1</th>\n",
              "      <td>536365</td>\n",
              "      <td>71053</td>\n",
              "      <td>WHITE METAL LANTERN</td>\n",
              "      <td>6</td>\n",
              "      <td>2010-12-01 08:26:00</td>\n",
              "      <td>3.39</td>\n",
              "      <td>17850.0</td>\n",
              "      <td>United Kingdom</td>\n",
              "    </tr>\n",
              "    <tr>\n",
              "      <th>2</th>\n",
              "      <td>536365</td>\n",
              "      <td>84406B</td>\n",
              "      <td>CREAM CUPID HEARTS COAT HANGER</td>\n",
              "      <td>8</td>\n",
              "      <td>2010-12-01 08:26:00</td>\n",
              "      <td>2.75</td>\n",
              "      <td>17850.0</td>\n",
              "      <td>United Kingdom</td>\n",
              "    </tr>\n",
              "    <tr>\n",
              "      <th>3</th>\n",
              "      <td>536365</td>\n",
              "      <td>84029G</td>\n",
              "      <td>KNITTED UNION FLAG HOT WATER BOTTLE</td>\n",
              "      <td>6</td>\n",
              "      <td>2010-12-01 08:26:00</td>\n",
              "      <td>3.39</td>\n",
              "      <td>17850.0</td>\n",
              "      <td>United Kingdom</td>\n",
              "    </tr>\n",
              "    <tr>\n",
              "      <th>4</th>\n",
              "      <td>536365</td>\n",
              "      <td>84029E</td>\n",
              "      <td>RED WOOLLY HOTTIE WHITE HEART.</td>\n",
              "      <td>6</td>\n",
              "      <td>2010-12-01 08:26:00</td>\n",
              "      <td>3.39</td>\n",
              "      <td>17850.0</td>\n",
              "      <td>United Kingdom</td>\n",
              "    </tr>\n",
              "  </tbody>\n",
              "</table>\n",
              "</div>\n",
              "    <div class=\"colab-df-buttons\">\n",
              "\n",
              "  <div class=\"colab-df-container\">\n",
              "    <button class=\"colab-df-convert\" onclick=\"convertToInteractive('df-c400acb5-9571-4a8c-b2f3-1e70af5320c3')\"\n",
              "            title=\"Convert this dataframe to an interactive table.\"\n",
              "            style=\"display:none;\">\n",
              "\n",
              "  <svg xmlns=\"http://www.w3.org/2000/svg\" height=\"24px\" viewBox=\"0 -960 960 960\">\n",
              "    <path d=\"M120-120v-720h720v720H120Zm60-500h600v-160H180v160Zm220 220h160v-160H400v160Zm0 220h160v-160H400v160ZM180-400h160v-160H180v160Zm440 0h160v-160H620v160ZM180-180h160v-160H180v160Zm440 0h160v-160H620v160Z\"/>\n",
              "  </svg>\n",
              "    </button>\n",
              "\n",
              "  <style>\n",
              "    .colab-df-container {\n",
              "      display:flex;\n",
              "      gap: 12px;\n",
              "    }\n",
              "\n",
              "    .colab-df-convert {\n",
              "      background-color: #E8F0FE;\n",
              "      border: none;\n",
              "      border-radius: 50%;\n",
              "      cursor: pointer;\n",
              "      display: none;\n",
              "      fill: #1967D2;\n",
              "      height: 32px;\n",
              "      padding: 0 0 0 0;\n",
              "      width: 32px;\n",
              "    }\n",
              "\n",
              "    .colab-df-convert:hover {\n",
              "      background-color: #E2EBFA;\n",
              "      box-shadow: 0px 1px 2px rgba(60, 64, 67, 0.3), 0px 1px 3px 1px rgba(60, 64, 67, 0.15);\n",
              "      fill: #174EA6;\n",
              "    }\n",
              "\n",
              "    .colab-df-buttons div {\n",
              "      margin-bottom: 4px;\n",
              "    }\n",
              "\n",
              "    [theme=dark] .colab-df-convert {\n",
              "      background-color: #3B4455;\n",
              "      fill: #D2E3FC;\n",
              "    }\n",
              "\n",
              "    [theme=dark] .colab-df-convert:hover {\n",
              "      background-color: #434B5C;\n",
              "      box-shadow: 0px 1px 3px 1px rgba(0, 0, 0, 0.15);\n",
              "      filter: drop-shadow(0px 1px 2px rgba(0, 0, 0, 0.3));\n",
              "      fill: #FFFFFF;\n",
              "    }\n",
              "  </style>\n",
              "\n",
              "    <script>\n",
              "      const buttonEl =\n",
              "        document.querySelector('#df-c400acb5-9571-4a8c-b2f3-1e70af5320c3 button.colab-df-convert');\n",
              "      buttonEl.style.display =\n",
              "        google.colab.kernel.accessAllowed ? 'block' : 'none';\n",
              "\n",
              "      async function convertToInteractive(key) {\n",
              "        const element = document.querySelector('#df-c400acb5-9571-4a8c-b2f3-1e70af5320c3');\n",
              "        const dataTable =\n",
              "          await google.colab.kernel.invokeFunction('convertToInteractive',\n",
              "                                                    [key], {});\n",
              "        if (!dataTable) return;\n",
              "\n",
              "        const docLinkHtml = 'Like what you see? Visit the ' +\n",
              "          '<a target=\"_blank\" href=https://colab.research.google.com/notebooks/data_table.ipynb>data table notebook</a>'\n",
              "          + ' to learn more about interactive tables.';\n",
              "        element.innerHTML = '';\n",
              "        dataTable['output_type'] = 'display_data';\n",
              "        await google.colab.output.renderOutput(dataTable, element);\n",
              "        const docLink = document.createElement('div');\n",
              "        docLink.innerHTML = docLinkHtml;\n",
              "        element.appendChild(docLink);\n",
              "      }\n",
              "    </script>\n",
              "  </div>\n",
              "\n",
              "\n",
              "    <div id=\"df-90a4a22f-d3c4-477e-bad6-2271edcf324e\">\n",
              "      <button class=\"colab-df-quickchart\" onclick=\"quickchart('df-90a4a22f-d3c4-477e-bad6-2271edcf324e')\"\n",
              "                title=\"Suggest charts\"\n",
              "                style=\"display:none;\">\n",
              "\n",
              "<svg xmlns=\"http://www.w3.org/2000/svg\" height=\"24px\"viewBox=\"0 0 24 24\"\n",
              "     width=\"24px\">\n",
              "    <g>\n",
              "        <path d=\"M19 3H5c-1.1 0-2 .9-2 2v14c0 1.1.9 2 2 2h14c1.1 0 2-.9 2-2V5c0-1.1-.9-2-2-2zM9 17H7v-7h2v7zm4 0h-2V7h2v10zm4 0h-2v-4h2v4z\"/>\n",
              "    </g>\n",
              "</svg>\n",
              "      </button>\n",
              "\n",
              "<style>\n",
              "  .colab-df-quickchart {\n",
              "      --bg-color: #E8F0FE;\n",
              "      --fill-color: #1967D2;\n",
              "      --hover-bg-color: #E2EBFA;\n",
              "      --hover-fill-color: #174EA6;\n",
              "      --disabled-fill-color: #AAA;\n",
              "      --disabled-bg-color: #DDD;\n",
              "  }\n",
              "\n",
              "  [theme=dark] .colab-df-quickchart {\n",
              "      --bg-color: #3B4455;\n",
              "      --fill-color: #D2E3FC;\n",
              "      --hover-bg-color: #434B5C;\n",
              "      --hover-fill-color: #FFFFFF;\n",
              "      --disabled-bg-color: #3B4455;\n",
              "      --disabled-fill-color: #666;\n",
              "  }\n",
              "\n",
              "  .colab-df-quickchart {\n",
              "    background-color: var(--bg-color);\n",
              "    border: none;\n",
              "    border-radius: 50%;\n",
              "    cursor: pointer;\n",
              "    display: none;\n",
              "    fill: var(--fill-color);\n",
              "    height: 32px;\n",
              "    padding: 0;\n",
              "    width: 32px;\n",
              "  }\n",
              "\n",
              "  .colab-df-quickchart:hover {\n",
              "    background-color: var(--hover-bg-color);\n",
              "    box-shadow: 0 1px 2px rgba(60, 64, 67, 0.3), 0 1px 3px 1px rgba(60, 64, 67, 0.15);\n",
              "    fill: var(--button-hover-fill-color);\n",
              "  }\n",
              "\n",
              "  .colab-df-quickchart-complete:disabled,\n",
              "  .colab-df-quickchart-complete:disabled:hover {\n",
              "    background-color: var(--disabled-bg-color);\n",
              "    fill: var(--disabled-fill-color);\n",
              "    box-shadow: none;\n",
              "  }\n",
              "\n",
              "  .colab-df-spinner {\n",
              "    border: 2px solid var(--fill-color);\n",
              "    border-color: transparent;\n",
              "    border-bottom-color: var(--fill-color);\n",
              "    animation:\n",
              "      spin 1s steps(1) infinite;\n",
              "  }\n",
              "\n",
              "  @keyframes spin {\n",
              "    0% {\n",
              "      border-color: transparent;\n",
              "      border-bottom-color: var(--fill-color);\n",
              "      border-left-color: var(--fill-color);\n",
              "    }\n",
              "    20% {\n",
              "      border-color: transparent;\n",
              "      border-left-color: var(--fill-color);\n",
              "      border-top-color: var(--fill-color);\n",
              "    }\n",
              "    30% {\n",
              "      border-color: transparent;\n",
              "      border-left-color: var(--fill-color);\n",
              "      border-top-color: var(--fill-color);\n",
              "      border-right-color: var(--fill-color);\n",
              "    }\n",
              "    40% {\n",
              "      border-color: transparent;\n",
              "      border-right-color: var(--fill-color);\n",
              "      border-top-color: var(--fill-color);\n",
              "    }\n",
              "    60% {\n",
              "      border-color: transparent;\n",
              "      border-right-color: var(--fill-color);\n",
              "    }\n",
              "    80% {\n",
              "      border-color: transparent;\n",
              "      border-right-color: var(--fill-color);\n",
              "      border-bottom-color: var(--fill-color);\n",
              "    }\n",
              "    90% {\n",
              "      border-color: transparent;\n",
              "      border-bottom-color: var(--fill-color);\n",
              "    }\n",
              "  }\n",
              "</style>\n",
              "\n",
              "      <script>\n",
              "        async function quickchart(key) {\n",
              "          const quickchartButtonEl =\n",
              "            document.querySelector('#' + key + ' button');\n",
              "          quickchartButtonEl.disabled = true;  // To prevent multiple clicks.\n",
              "          quickchartButtonEl.classList.add('colab-df-spinner');\n",
              "          try {\n",
              "            const charts = await google.colab.kernel.invokeFunction(\n",
              "                'suggestCharts', [key], {});\n",
              "          } catch (error) {\n",
              "            console.error('Error during call to suggestCharts:', error);\n",
              "          }\n",
              "          quickchartButtonEl.classList.remove('colab-df-spinner');\n",
              "          quickchartButtonEl.classList.add('colab-df-quickchart-complete');\n",
              "        }\n",
              "        (() => {\n",
              "          let quickchartButtonEl =\n",
              "            document.querySelector('#df-90a4a22f-d3c4-477e-bad6-2271edcf324e button');\n",
              "          quickchartButtonEl.style.display =\n",
              "            google.colab.kernel.accessAllowed ? 'block' : 'none';\n",
              "        })();\n",
              "      </script>\n",
              "    </div>\n",
              "\n",
              "    </div>\n",
              "  </div>\n"
            ],
            "application/vnd.google.colaboratory.intrinsic+json": {
              "type": "dataframe",
              "variable_name": "df_excel"
            }
          },
          "metadata": {},
          "execution_count": 3
        }
      ]
    },
    {
      "cell_type": "code",
      "source": [
        "df_excel.to_csv(\"online_retail.csv\", index=False)\n",
        "print(\"✅ Saved as 'online_retail.csv'\")\n"
      ],
      "metadata": {
        "colab": {
          "base_uri": "https://localhost:8080/"
        },
        "id": "mM29VqSY9rOW",
        "outputId": "27948d42-e6c4-4c5a-baae-c19689de11dd"
      },
      "execution_count": 4,
      "outputs": [
        {
          "output_type": "stream",
          "name": "stdout",
          "text": [
            "✅ Saved as 'online_retail.csv'\n"
          ]
        }
      ]
    },
    {
      "cell_type": "code",
      "source": [
        "from pyspark.sql import SparkSession\n",
        "\n",
        "spark = SparkSession.builder.appName(\"OnlineRetailAnalysis\").getOrCreate()\n"
      ],
      "metadata": {
        "id": "d2NnVYTz9rH6"
      },
      "execution_count": 5,
      "outputs": []
    },
    {
      "cell_type": "code",
      "source": [
        "df = spark.read.csv(\"online_retail.csv\", header=True, inferSchema=True)\n",
        "\n",
        "df.printSchema()\n",
        "df.show(20)\n"
      ],
      "metadata": {
        "colab": {
          "base_uri": "https://localhost:8080/"
        },
        "id": "FUo6_Vrv9rBd",
        "outputId": "f10627e3-2073-45bd-fe63-3aad8e28c219"
      },
      "execution_count": 7,
      "outputs": [
        {
          "output_type": "stream",
          "name": "stdout",
          "text": [
            "root\n",
            " |-- InvoiceNo: string (nullable = true)\n",
            " |-- StockCode: string (nullable = true)\n",
            " |-- Description: string (nullable = true)\n",
            " |-- Quantity: integer (nullable = true)\n",
            " |-- InvoiceDate: timestamp (nullable = true)\n",
            " |-- UnitPrice: double (nullable = true)\n",
            " |-- CustomerID: double (nullable = true)\n",
            " |-- Country: string (nullable = true)\n",
            "\n",
            "+---------+---------+--------------------+--------+-------------------+---------+----------+--------------+\n",
            "|InvoiceNo|StockCode|         Description|Quantity|        InvoiceDate|UnitPrice|CustomerID|       Country|\n",
            "+---------+---------+--------------------+--------+-------------------+---------+----------+--------------+\n",
            "|   536365|   85123A|WHITE HANGING HEA...|       6|2010-12-01 08:26:00|     2.55|   17850.0|United Kingdom|\n",
            "|   536365|    71053| WHITE METAL LANTERN|       6|2010-12-01 08:26:00|     3.39|   17850.0|United Kingdom|\n",
            "|   536365|   84406B|CREAM CUPID HEART...|       8|2010-12-01 08:26:00|     2.75|   17850.0|United Kingdom|\n",
            "|   536365|   84029G|KNITTED UNION FLA...|       6|2010-12-01 08:26:00|     3.39|   17850.0|United Kingdom|\n",
            "|   536365|   84029E|RED WOOLLY HOTTIE...|       6|2010-12-01 08:26:00|     3.39|   17850.0|United Kingdom|\n",
            "|   536365|    22752|SET 7 BABUSHKA NE...|       2|2010-12-01 08:26:00|     7.65|   17850.0|United Kingdom|\n",
            "|   536365|    21730|GLASS STAR FROSTE...|       6|2010-12-01 08:26:00|     4.25|   17850.0|United Kingdom|\n",
            "|   536366|    22633|HAND WARMER UNION...|       6|2010-12-01 08:28:00|     1.85|   17850.0|United Kingdom|\n",
            "|   536366|    22632|HAND WARMER RED P...|       6|2010-12-01 08:28:00|     1.85|   17850.0|United Kingdom|\n",
            "|   536367|    84879|ASSORTED COLOUR B...|      32|2010-12-01 08:34:00|     1.69|   13047.0|United Kingdom|\n",
            "|   536367|    22745|POPPY'S PLAYHOUSE...|       6|2010-12-01 08:34:00|      2.1|   13047.0|United Kingdom|\n",
            "|   536367|    22748|POPPY'S PLAYHOUSE...|       6|2010-12-01 08:34:00|      2.1|   13047.0|United Kingdom|\n",
            "|   536367|    22749|FELTCRAFT PRINCES...|       8|2010-12-01 08:34:00|     3.75|   13047.0|United Kingdom|\n",
            "|   536367|    22310|IVORY KNITTED MUG...|       6|2010-12-01 08:34:00|     1.65|   13047.0|United Kingdom|\n",
            "|   536367|    84969|BOX OF 6 ASSORTED...|       6|2010-12-01 08:34:00|     4.25|   13047.0|United Kingdom|\n",
            "|   536367|    22623|BOX OF VINTAGE JI...|       3|2010-12-01 08:34:00|     4.95|   13047.0|United Kingdom|\n",
            "|   536367|    22622|BOX OF VINTAGE AL...|       2|2010-12-01 08:34:00|     9.95|   13047.0|United Kingdom|\n",
            "|   536367|    21754|HOME BUILDING BLO...|       3|2010-12-01 08:34:00|     5.95|   13047.0|United Kingdom|\n",
            "|   536367|    21755|LOVE BUILDING BLO...|       3|2010-12-01 08:34:00|     5.95|   13047.0|United Kingdom|\n",
            "|   536367|    21777|RECIPE BOX WITH M...|       4|2010-12-01 08:34:00|     7.95|   13047.0|United Kingdom|\n",
            "+---------+---------+--------------------+--------+-------------------+---------+----------+--------------+\n",
            "only showing top 20 rows\n",
            "\n"
          ]
        }
      ]
    },
    {
      "cell_type": "code",
      "source": [
        "from pyspark.sql.functions import count, when\n",
        "\n",
        "df.select([count(when(col(c).isNull(), c)).alias(c + \"_nulls\") for c in df.columns]).show()\n"
      ],
      "metadata": {
        "colab": {
          "base_uri": "https://localhost:8080/"
        },
        "id": "JMuMG2z29q1F",
        "outputId": "27bc1713-7f33-46ee-fbb4-0af0ece83527"
      },
      "execution_count": 10,
      "outputs": [
        {
          "output_type": "stream",
          "name": "stdout",
          "text": [
            "+---------------+---------------+-----------------+--------------+-----------------+---------------+----------------+-------------+\n",
            "|InvoiceNo_nulls|StockCode_nulls|Description_nulls|Quantity_nulls|InvoiceDate_nulls|UnitPrice_nulls|CustomerID_nulls|Country_nulls|\n",
            "+---------------+---------------+-----------------+--------------+-----------------+---------------+----------------+-------------+\n",
            "|              0|              0|             1454|             0|                0|              0|          135080|            0|\n",
            "+---------------+---------------+-----------------+--------------+-----------------+---------------+----------------+-------------+\n",
            "\n"
          ]
        }
      ]
    },
    {
      "cell_type": "markdown",
      "source": [
        " show count of nulls for each column individually"
      ],
      "metadata": {
        "id": "yrlY0pOtP56w"
      }
    },
    {
      "cell_type": "code",
      "source": [
        "df_clean = df.dropna(subset=[\"Description\", \"CustomerID\"])\n"
      ],
      "metadata": {
        "id": "dAE_TD6L9qvL"
      },
      "execution_count": 11,
      "outputs": []
    },
    {
      "cell_type": "code",
      "source": [
        "print(\"Original row count:\", df.count())\n",
        "print(\"Cleaned row count:\", df_clean.count())\n"
      ],
      "metadata": {
        "colab": {
          "base_uri": "https://localhost:8080/"
        },
        "id": "2UBlYBuA9qsC",
        "outputId": "8706dcef-5148-4303-e90b-41e85bc2c49e"
      },
      "execution_count": 12,
      "outputs": [
        {
          "output_type": "stream",
          "name": "stdout",
          "text": [
            "Original row count: 541909\n",
            "Cleaned row count: 406829\n"
          ]
        }
      ]
    },
    {
      "cell_type": "code",
      "source": [
        "df_clean = df_clean.filter(~col(\"InvoiceNo\").startswith(\"C\"))\n",
        "df_clean.select(\"InvoiceNo\").show(5)\n"
      ],
      "metadata": {
        "colab": {
          "base_uri": "https://localhost:8080/"
        },
        "id": "as-ChF299ql0",
        "outputId": "e5bf2538-3f90-42e8-f74f-384090e3870f"
      },
      "execution_count": 13,
      "outputs": [
        {
          "output_type": "stream",
          "name": "stdout",
          "text": [
            "+---------+\n",
            "|InvoiceNo|\n",
            "+---------+\n",
            "|   536365|\n",
            "|   536365|\n",
            "|   536365|\n",
            "|   536365|\n",
            "|   536365|\n",
            "+---------+\n",
            "only showing top 5 rows\n",
            "\n"
          ]
        }
      ]
    },
    {
      "cell_type": "code",
      "source": [
        "df_clean = df_clean.filter((col(\"Quantity\") > 0) & (col(\"UnitPrice\") > 0))\n",
        "df_clean.show()\n"
      ],
      "metadata": {
        "colab": {
          "base_uri": "https://localhost:8080/"
        },
        "id": "XXPGJB419qfP",
        "outputId": "197fb5ba-4bd2-43ea-c658-6d61bf714bc3"
      },
      "execution_count": 15,
      "outputs": [
        {
          "output_type": "stream",
          "name": "stdout",
          "text": [
            "+---------+---------+--------------------+--------+-------------------+---------+----------+--------------+\n",
            "|InvoiceNo|StockCode|         Description|Quantity|        InvoiceDate|UnitPrice|CustomerID|       Country|\n",
            "+---------+---------+--------------------+--------+-------------------+---------+----------+--------------+\n",
            "|   536365|   85123A|WHITE HANGING HEA...|       6|2010-12-01 08:26:00|     2.55|   17850.0|United Kingdom|\n",
            "|   536365|    71053| WHITE METAL LANTERN|       6|2010-12-01 08:26:00|     3.39|   17850.0|United Kingdom|\n",
            "|   536365|   84406B|CREAM CUPID HEART...|       8|2010-12-01 08:26:00|     2.75|   17850.0|United Kingdom|\n",
            "|   536365|   84029G|KNITTED UNION FLA...|       6|2010-12-01 08:26:00|     3.39|   17850.0|United Kingdom|\n",
            "|   536365|   84029E|RED WOOLLY HOTTIE...|       6|2010-12-01 08:26:00|     3.39|   17850.0|United Kingdom|\n",
            "|   536365|    22752|SET 7 BABUSHKA NE...|       2|2010-12-01 08:26:00|     7.65|   17850.0|United Kingdom|\n",
            "|   536365|    21730|GLASS STAR FROSTE...|       6|2010-12-01 08:26:00|     4.25|   17850.0|United Kingdom|\n",
            "|   536366|    22633|HAND WARMER UNION...|       6|2010-12-01 08:28:00|     1.85|   17850.0|United Kingdom|\n",
            "|   536366|    22632|HAND WARMER RED P...|       6|2010-12-01 08:28:00|     1.85|   17850.0|United Kingdom|\n",
            "|   536367|    84879|ASSORTED COLOUR B...|      32|2010-12-01 08:34:00|     1.69|   13047.0|United Kingdom|\n",
            "|   536367|    22745|POPPY'S PLAYHOUSE...|       6|2010-12-01 08:34:00|      2.1|   13047.0|United Kingdom|\n",
            "|   536367|    22748|POPPY'S PLAYHOUSE...|       6|2010-12-01 08:34:00|      2.1|   13047.0|United Kingdom|\n",
            "|   536367|    22749|FELTCRAFT PRINCES...|       8|2010-12-01 08:34:00|     3.75|   13047.0|United Kingdom|\n",
            "|   536367|    22310|IVORY KNITTED MUG...|       6|2010-12-01 08:34:00|     1.65|   13047.0|United Kingdom|\n",
            "|   536367|    84969|BOX OF 6 ASSORTED...|       6|2010-12-01 08:34:00|     4.25|   13047.0|United Kingdom|\n",
            "|   536367|    22623|BOX OF VINTAGE JI...|       3|2010-12-01 08:34:00|     4.95|   13047.0|United Kingdom|\n",
            "|   536367|    22622|BOX OF VINTAGE AL...|       2|2010-12-01 08:34:00|     9.95|   13047.0|United Kingdom|\n",
            "|   536367|    21754|HOME BUILDING BLO...|       3|2010-12-01 08:34:00|     5.95|   13047.0|United Kingdom|\n",
            "|   536367|    21755|LOVE BUILDING BLO...|       3|2010-12-01 08:34:00|     5.95|   13047.0|United Kingdom|\n",
            "|   536367|    21777|RECIPE BOX WITH M...|       4|2010-12-01 08:34:00|     7.95|   13047.0|United Kingdom|\n",
            "+---------+---------+--------------------+--------+-------------------+---------+----------+--------------+\n",
            "only showing top 20 rows\n",
            "\n"
          ]
        }
      ]
    },
    {
      "cell_type": "code",
      "execution_count": 17,
      "metadata": {
        "colab": {
          "base_uri": "https://localhost:8080/"
        },
        "id": "abexakex9nVR",
        "outputId": "01664474-68f0-4466-a34e-c829f72c7d43"
      },
      "outputs": [
        {
          "output_type": "stream",
          "name": "stdout",
          "text": [
            "+---------+---------+--------------------+--------+-------------------+---------+----------+--------------+----------+\n",
            "|InvoiceNo|StockCode|         Description|Quantity|        InvoiceDate|UnitPrice|CustomerID|       Country|TotalPrice|\n",
            "+---------+---------+--------------------+--------+-------------------+---------+----------+--------------+----------+\n",
            "|   536365|   85123A|WHITE HANGING HEA...|       6|2010-12-01 08:26:00|     2.55|   17850.0|United Kingdom|      15.3|\n",
            "|   536365|    71053| WHITE METAL LANTERN|       6|2010-12-01 08:26:00|     3.39|   17850.0|United Kingdom|     20.34|\n",
            "|   536365|   84406B|CREAM CUPID HEART...|       8|2010-12-01 08:26:00|     2.75|   17850.0|United Kingdom|      22.0|\n",
            "|   536365|   84029G|KNITTED UNION FLA...|       6|2010-12-01 08:26:00|     3.39|   17850.0|United Kingdom|     20.34|\n",
            "|   536365|   84029E|RED WOOLLY HOTTIE...|       6|2010-12-01 08:26:00|     3.39|   17850.0|United Kingdom|     20.34|\n",
            "|   536365|    22752|SET 7 BABUSHKA NE...|       2|2010-12-01 08:26:00|     7.65|   17850.0|United Kingdom|      15.3|\n",
            "|   536365|    21730|GLASS STAR FROSTE...|       6|2010-12-01 08:26:00|     4.25|   17850.0|United Kingdom|      25.5|\n",
            "|   536366|    22633|HAND WARMER UNION...|       6|2010-12-01 08:28:00|     1.85|   17850.0|United Kingdom|      11.1|\n",
            "|   536366|    22632|HAND WARMER RED P...|       6|2010-12-01 08:28:00|     1.85|   17850.0|United Kingdom|      11.1|\n",
            "|   536367|    84879|ASSORTED COLOUR B...|      32|2010-12-01 08:34:00|     1.69|   13047.0|United Kingdom|     54.08|\n",
            "|   536367|    22745|POPPY'S PLAYHOUSE...|       6|2010-12-01 08:34:00|      2.1|   13047.0|United Kingdom|      12.6|\n",
            "|   536367|    22748|POPPY'S PLAYHOUSE...|       6|2010-12-01 08:34:00|      2.1|   13047.0|United Kingdom|      12.6|\n",
            "|   536367|    22749|FELTCRAFT PRINCES...|       8|2010-12-01 08:34:00|     3.75|   13047.0|United Kingdom|      30.0|\n",
            "|   536367|    22310|IVORY KNITTED MUG...|       6|2010-12-01 08:34:00|     1.65|   13047.0|United Kingdom|       9.9|\n",
            "|   536367|    84969|BOX OF 6 ASSORTED...|       6|2010-12-01 08:34:00|     4.25|   13047.0|United Kingdom|      25.5|\n",
            "|   536367|    22623|BOX OF VINTAGE JI...|       3|2010-12-01 08:34:00|     4.95|   13047.0|United Kingdom|     14.85|\n",
            "|   536367|    22622|BOX OF VINTAGE AL...|       2|2010-12-01 08:34:00|     9.95|   13047.0|United Kingdom|      19.9|\n",
            "|   536367|    21754|HOME BUILDING BLO...|       3|2010-12-01 08:34:00|     5.95|   13047.0|United Kingdom|     17.85|\n",
            "|   536367|    21755|LOVE BUILDING BLO...|       3|2010-12-01 08:34:00|     5.95|   13047.0|United Kingdom|     17.85|\n",
            "|   536367|    21777|RECIPE BOX WITH M...|       4|2010-12-01 08:34:00|     7.95|   13047.0|United Kingdom|      31.8|\n",
            "+---------+---------+--------------------+--------+-------------------+---------+----------+--------------+----------+\n",
            "only showing top 20 rows\n",
            "\n"
          ]
        }
      ],
      "source": [
        "from pyspark.sql.functions import round\n",
        "\n",
        "df_clean = df_clean.withColumn(\"TotalPrice\", round(col(\"Quantity\") * col(\"UnitPrice\"), 2))\n",
        "df_clean.show()\n"
      ]
    },
    {
      "cell_type": "markdown",
      "source": [
        "new column \"TotalPrice\" is created."
      ],
      "metadata": {
        "id": "E4f17eY7TUM-"
      }
    },
    {
      "cell_type": "code",
      "source": [
        "from pyspark.sql.functions import to_timestamp, year, month, dayofmonth, hour\n",
        "\n",
        "df_clean = df_clean.withColumn(\"InvoiceTS\", to_timestamp(col(\"InvoiceDate\")))\n",
        "df_clean = df_clean.withColumn(\"Year\", year(col(\"InvoiceTS\")))\n",
        "df_clean = df_clean.withColumn(\"Month\", month(col(\"InvoiceTS\")))\n",
        "df_clean = df_clean.withColumn(\"Day\", dayofmonth(col(\"InvoiceTS\")))\n",
        "df_clean = df_clean.withColumn(\"Hour\", hour(col(\"InvoiceTS\")))\n"
      ],
      "metadata": {
        "id": "D5kUwUmFJuea"
      },
      "execution_count": 18,
      "outputs": []
    },
    {
      "cell_type": "code",
      "source": [
        "df_clean.select(\"InvoiceNo\",\"CustomerID\",\"Quantity\",\"UnitPrice\",\"TotalPrice\",\"Year\",\"Month\").show(5)\n"
      ],
      "metadata": {
        "colab": {
          "base_uri": "https://localhost:8080/"
        },
        "id": "JV-JEz2PJua-",
        "outputId": "0da373ac-e473-4add-97b8-06562c9dbcf0"
      },
      "execution_count": 19,
      "outputs": [
        {
          "output_type": "stream",
          "name": "stdout",
          "text": [
            "+---------+----------+--------+---------+----------+----+-----+\n",
            "|InvoiceNo|CustomerID|Quantity|UnitPrice|TotalPrice|Year|Month|\n",
            "+---------+----------+--------+---------+----------+----+-----+\n",
            "|   536365|   17850.0|       6|     2.55|      15.3|2010|   12|\n",
            "|   536365|   17850.0|       6|     3.39|     20.34|2010|   12|\n",
            "|   536365|   17850.0|       8|     2.75|      22.0|2010|   12|\n",
            "|   536365|   17850.0|       6|     3.39|     20.34|2010|   12|\n",
            "|   536365|   17850.0|       6|     3.39|     20.34|2010|   12|\n",
            "+---------+----------+--------+---------+----------+----+-----+\n",
            "only showing top 5 rows\n",
            "\n"
          ]
        }
      ]
    },
    {
      "cell_type": "code",
      "source": [
        "df_clean.agg({\"TotalPrice\": \"sum\"}).show()\n"
      ],
      "metadata": {
        "colab": {
          "base_uri": "https://localhost:8080/"
        },
        "id": "FzGT8e8WJuX9",
        "outputId": "ea5eff3d-788b-4d6a-8038-7ac384ef0b6c"
      },
      "execution_count": 20,
      "outputs": [
        {
          "output_type": "stream",
          "name": "stdout",
          "text": [
            "+-----------------+\n",
            "|  sum(TotalPrice)|\n",
            "+-----------------+\n",
            "|8911407.900001075|\n",
            "+-----------------+\n",
            "\n"
          ]
        }
      ]
    },
    {
      "cell_type": "code",
      "source": [
        "df_clean.groupBy(\"Year\", \"Month\")\\\n",
        "    .sum(\"TotalPrice\")\\\n",
        "    .orderBy(\"Year\", \"Month\")\\\n",
        "    .show()\n"
      ],
      "metadata": {
        "colab": {
          "base_uri": "https://localhost:8080/"
        },
        "id": "DF08wSvxJuUy",
        "outputId": "99ad167b-7954-4734-ff4a-786a4e4c7f1b"
      },
      "execution_count": 21,
      "outputs": [
        {
          "output_type": "stream",
          "name": "stdout",
          "text": [
            "+----+-----+------------------+\n",
            "|Year|Month|   sum(TotalPrice)|\n",
            "+----+-----+------------------+\n",
            "|2010|   12| 572713.8900000163|\n",
            "|2011|    1| 569445.0400000077|\n",
            "|2011|    2| 447137.3500000165|\n",
            "|2011|    3|  595500.760000013|\n",
            "|2011|    4| 469200.3600000132|\n",
            "|2011|    5| 678594.5600000018|\n",
            "|2011|    6| 661213.6900000116|\n",
            "|2011|    7| 600091.0100000141|\n",
            "|2011|    8| 645343.9000000068|\n",
            "|2011|    9| 952838.3799999963|\n",
            "|2011|   10|1039318.7899999822|\n",
            "|2011|   11|1161817.3799999433|\n",
            "|2011|   12| 518192.7900000037|\n",
            "+----+-----+------------------+\n",
            "\n"
          ]
        }
      ]
    },
    {
      "cell_type": "markdown",
      "source": [
        "Revenue peaked during November and December, likely due to holiday shopping."
      ],
      "metadata": {
        "id": "Ti3gRAw7Qe-I"
      }
    },
    {
      "cell_type": "code",
      "source": [
        "df_clean.groupBy(\"Country\")\\\n",
        "    .sum(\"TotalPrice\")\\\n",
        "    .orderBy(col(\"sum(TotalPrice)\").desc())\\\n",
        "    .show(5)\n"
      ],
      "metadata": {
        "colab": {
          "base_uri": "https://localhost:8080/"
        },
        "id": "sdKmHxB3JuRo",
        "outputId": "231ef737-bbb4-4c6a-e9f2-c02bbcda8f37"
      },
      "execution_count": 22,
      "outputs": [
        {
          "output_type": "stream",
          "name": "stdout",
          "text": [
            "+--------------+------------------+\n",
            "|       Country|   sum(TotalPrice)|\n",
            "+--------------+------------------+\n",
            "|United Kingdom| 7308391.550000223|\n",
            "|   Netherlands| 285446.3399999992|\n",
            "|          EIRE|265545.89999999915|\n",
            "|       Germany|228867.14000000025|\n",
            "|        France|209024.05000000025|\n",
            "+--------------+------------------+\n",
            "only showing top 5 rows\n",
            "\n"
          ]
        }
      ]
    },
    {
      "cell_type": "markdown",
      "source": [
        "The UK is by far the largest market, followed by the Netherlands and Germany."
      ],
      "metadata": {
        "id": "DvDp6DFZSLGX"
      }
    },
    {
      "cell_type": "code",
      "source": [
        "df_clean.groupBy(\"Description\")\\\n",
        "    .sum(\"Quantity\")\\\n",
        "    .orderBy(col(\"sum(Quantity)\").desc())\\\n",
        "    .show(5)\n"
      ],
      "metadata": {
        "colab": {
          "base_uri": "https://localhost:8080/"
        },
        "id": "ShmHimWeJuOm",
        "outputId": "3c62cfcd-8d7e-41e7-8520-9a86fed40976"
      },
      "execution_count": 23,
      "outputs": [
        {
          "output_type": "stream",
          "name": "stdout",
          "text": [
            "+--------------------+-------------+\n",
            "|         Description|sum(Quantity)|\n",
            "+--------------------+-------------+\n",
            "|PAPER CRAFT , LIT...|        80995|\n",
            "|MEDIUM CERAMIC TO...|        77916|\n",
            "|WORLD WAR 2 GLIDE...|        54415|\n",
            "|JUMBO BAG RED RET...|        46181|\n",
            "|WHITE HANGING HEA...|        36725|\n",
            "+--------------------+-------------+\n",
            "only showing top 5 rows\n",
            "\n"
          ]
        }
      ]
    },
    {
      "cell_type": "code",
      "source": [
        "df_clean.groupBy(\"InvoiceNo\")\\\n",
        "    .agg({\"TotalPrice\": \"sum\"})\\\n",
        "    .agg({\"sum(TotalPrice)\": \"avg\"})\\\n",
        "    .show()\n"
      ],
      "metadata": {
        "colab": {
          "base_uri": "https://localhost:8080/"
        },
        "id": "UnZHbK9cJuLf",
        "outputId": "6bcad130-477e-4c50-e85a-47a3a76e5dcf"
      },
      "execution_count": 24,
      "outputs": [
        {
          "output_type": "stream",
          "name": "stdout",
          "text": [
            "+--------------------+\n",
            "|avg(sum(TotalPrice))|\n",
            "+--------------------+\n",
            "|  480.86595618390015|\n",
            "+--------------------+\n",
            "\n"
          ]
        }
      ]
    },
    {
      "cell_type": "code",
      "source": [
        "df_clean.groupBy(\"Hour\")\\\n",
        "    .sum(\"TotalPrice\")\\\n",
        "    .orderBy(\"Hour\")\\\n",
        "    .show()"
      ],
      "metadata": {
        "colab": {
          "base_uri": "https://localhost:8080/"
        },
        "id": "IzGUi5CHJuIq",
        "outputId": "af104325-ca1a-45e3-f546-5c741f395cac"
      },
      "execution_count": 38,
      "outputs": [
        {
          "output_type": "stream",
          "name": "stdout",
          "text": [
            "+----+------------------+\n",
            "|Hour|   sum(TotalPrice)|\n",
            "+----+------------------+\n",
            "|   6|              4.25|\n",
            "|   7|31059.209999999992|\n",
            "|   8| 282115.6299999992|\n",
            "|   9| 842605.1699999989|\n",
            "|  10| 1261192.570000025|\n",
            "|  11| 1104558.750000032|\n",
            "|  12|1378571.4800000284|\n",
            "|  13| 1173264.750000032|\n",
            "|  14| 995629.3700000381|\n",
            "|  15| 966191.7500000258|\n",
            "|  16| 468885.7999999982|\n",
            "|  17| 234413.5199999985|\n",
            "|  18|104954.43000000017|\n",
            "|  19| 49028.46000000015|\n",
            "|  20| 18932.76000000001|\n",
            "+----+------------------+\n",
            "\n"
          ]
        }
      ]
    },
    {
      "cell_type": "markdown",
      "source": [
        "Most orders were placed between 10 AM and 3 PM."
      ],
      "metadata": {
        "id": "OH3SX9jqSlNp"
      }
    },
    {
      "cell_type": "code",
      "source": [
        "df_clean.groupBy(\"CustomerID\")\\\n",
        "    .sum(\"TotalPrice\")\\\n",
        "    .orderBy(col(\"sum(TotalPrice)\").desc())\\\n",
        "    .show(10)\n"
      ],
      "metadata": {
        "colab": {
          "base_uri": "https://localhost:8080/"
        },
        "id": "nlSMlKBJJuF5",
        "outputId": "347b12f7-56d0-4305-b756-ebbc75caba98"
      },
      "execution_count": 26,
      "outputs": [
        {
          "output_type": "stream",
          "name": "stdout",
          "text": [
            "+----------+------------------+\n",
            "|CustomerID|   sum(TotalPrice)|\n",
            "+----------+------------------+\n",
            "|   14646.0| 280206.0199999994|\n",
            "|   18102.0|259657.29999999996|\n",
            "|   17450.0|194550.78999999995|\n",
            "|   16446.0|          168472.5|\n",
            "|   14911.0|143825.05999999988|\n",
            "|   12415.0| 124914.5299999998|\n",
            "|   14156.0|117379.62999999992|\n",
            "|   17511.0| 91062.37999999989|\n",
            "|   16029.0| 81024.84000000001|\n",
            "|   12346.0|           77183.6|\n",
            "+----------+------------------+\n",
            "only showing top 10 rows\n",
            "\n"
          ]
        }
      ]
    },
    {
      "cell_type": "markdown",
      "source": [
        "Top 10 customers accounted for 25% of total revenue."
      ],
      "metadata": {
        "id": "plrBF1LJUQH-"
      }
    },
    {
      "cell_type": "code",
      "source": [
        "df_clean.groupBy(\"Country\", \"Year\", \"Month\")\\\n",
        "    .sum(\"TotalPrice\")\\\n",
        "    .orderBy(\"Country\", \"Year\", \"Month\")\\\n",
        "    .show(20, truncate=False)\n"
      ],
      "metadata": {
        "colab": {
          "base_uri": "https://localhost:8080/"
        },
        "id": "ddVEkiwwJuCp",
        "outputId": "dc36c317-0d5c-4c3d-ed0e-0deb86a8cd9c"
      },
      "execution_count": 27,
      "outputs": [
        {
          "output_type": "stream",
          "name": "stdout",
          "text": [
            "+---------+----+-----+------------------+\n",
            "|Country  |Year|Month|sum(TotalPrice)   |\n",
            "+---------+----+-----+------------------+\n",
            "|Australia|2010|12   |1032.85           |\n",
            "|Australia|2011|1    |9017.709999999995 |\n",
            "|Australia|2011|2    |14695.419999999996|\n",
            "|Australia|2011|3    |17223.990000000013|\n",
            "|Australia|2011|4    |771.6000000000001 |\n",
            "|Australia|2011|5    |13638.410000000005|\n",
            "|Australia|2011|6    |25187.769999999997|\n",
            "|Australia|2011|7    |4964.37999999999  |\n",
            "|Australia|2011|8    |22489.199999999993|\n",
            "|Australia|2011|9    |5106.7300000000005|\n",
            "|Australia|2011|10   |17150.53          |\n",
            "|Australia|2011|11   |7242.719999999999 |\n",
            "|Austria  |2010|12   |277.2             |\n",
            "|Austria  |2011|2    |518.3600000000001 |\n",
            "|Austria  |2011|3    |1708.12           |\n",
            "|Austria  |2011|4    |680.7800000000001 |\n",
            "|Austria  |2011|5    |1249.4299999999998|\n",
            "|Austria  |2011|7    |1191.9499999999998|\n",
            "|Austria  |2011|8    |1516.0799999999997|\n",
            "|Austria  |2011|10   |1043.7799999999997|\n",
            "+---------+----+-----+------------------+\n",
            "only showing top 20 rows\n",
            "\n"
          ]
        }
      ]
    },
    {
      "cell_type": "code",
      "source": [
        "from pyspark.sql.functions import row_number\n",
        "from pyspark.sql.window import Window\n",
        "\n",
        "windowSpec = Window.partitionBy(\"Country\").orderBy(col(\"sum(Quantity)\").desc())\n",
        "\n",
        "top_products_country = df_clean.groupBy(\"Country\", \"Description\")\\\n",
        "    .sum(\"Quantity\")\\\n",
        "    .withColumn(\"rank\", row_number().over(windowSpec))\\\n",
        "    .filter(col(\"rank\") <= 3)\n",
        "\n",
        "top_products_country.orderBy(\"Country\", \"rank\").show(20, truncate=False)\n"
      ],
      "metadata": {
        "colab": {
          "base_uri": "https://localhost:8080/"
        },
        "id": "lspCe9BCJt_q",
        "outputId": "45a61f7c-402c-4002-b199-55da63943ee0"
      },
      "execution_count": 39,
      "outputs": [
        {
          "output_type": "stream",
          "name": "stdout",
          "text": [
            "+---------------+-----------------------------------+-------------+----+\n",
            "|Country        |Description                        |sum(Quantity)|rank|\n",
            "+---------------+-----------------------------------+-------------+----+\n",
            "|Australia      |MINI PAINT SET VINTAGE             |2952         |1   |\n",
            "|Australia      |RABBIT NIGHT LIGHT                 |1884         |2   |\n",
            "|Australia      |RED  HARMONICA IN BOX              |1704         |3   |\n",
            "|Austria        |SET 12 KIDS COLOUR  CHALK STICKS   |288          |1   |\n",
            "|Austria        |MINI JIGSAW PURDEY                 |240          |2   |\n",
            "|Austria        |PACK OF 6 SWEETIE GIFT BOXES       |144          |3   |\n",
            "|Bahrain        |ICE CREAM SUNDAE LIP GLOSS         |96           |1   |\n",
            "|Bahrain        |DOUGHNUT LIP GLOSS                 |60           |2   |\n",
            "|Bahrain        |GROW A FLYTRAP OR SUNFLOWER IN TIN |24           |3   |\n",
            "|Belgium        |PACK OF 72 RETROSPOT CAKE CASES    |480          |1   |\n",
            "|Belgium        |ROUND SNACK BOXES SET OF4 WOODLAND |420          |2   |\n",
            "|Belgium        |PACK OF 60 SPACEBOY CAKE CASES     |384          |3   |\n",
            "|Brazil         |SET OF 4 PANTRY JELLY MOULDS       |24           |1   |\n",
            "|Brazil         |GREEN REGENCY TEACUP AND SAUCER    |24           |2   |\n",
            "|Brazil         |DOLLY GIRL LUNCH BOX               |24           |3   |\n",
            "|Canada         |RETRO COFFEE MUGS ASSORTED         |504          |1   |\n",
            "|Canada         |WORLD WAR 2 GLIDERS ASSTD DESIGNS  |288          |2   |\n",
            "|Canada         |COLOURING PENCILS BROWN TUBE       |60           |3   |\n",
            "|Channel Islands|RAIN PONCHO                        |407          |1   |\n",
            "|Channel Islands|JUMBO BAG RED RETROSPOT            |250          |2   |\n",
            "+---------------+-----------------------------------+-------------+----+\n",
            "only showing top 20 rows\n",
            "\n"
          ]
        }
      ]
    },
    {
      "cell_type": "markdown",
      "source": [
        "Customize inventory by region.\n",
        "\n"
      ],
      "metadata": {
        "id": "ilq5zaK2UzKR"
      }
    },
    {
      "cell_type": "code",
      "source": [
        "# First, total revenue\n",
        "total_revenue = df_clean.agg({\"TotalPrice\": \"sum\"}).collect()[0][0]\n",
        "\n",
        "# Revenue per customer\n",
        "customer_revenue = df_clean.groupBy(\"CustomerID\")\\\n",
        "    .sum(\"TotalPrice\")\\\n",
        "    .orderBy(col(\"sum(TotalPrice)\").desc())\n",
        "\n",
        "# Add cumulative revenue %\n",
        "from pyspark.sql.functions import sum as _sum, col\n",
        "\n",
        "windowSpecRev = Window.orderBy(col(\"sum(TotalPrice)\").desc())\n",
        "customer_revenue = customer_revenue.withColumn(\n",
        "    \"cum_revenue\", _sum(\"sum(TotalPrice)\").over(windowSpecRev)\n",
        ")\n",
        "\n",
        "customer_revenue = customer_revenue.withColumn(\n",
        "    \"cum_revenue_pct\", (col(\"cum_revenue\") / total_revenue) * 100\n",
        ")\n",
        "\n",
        "customer_revenue.show(20)\n"
      ],
      "metadata": {
        "colab": {
          "base_uri": "https://localhost:8080/"
        },
        "id": "byjxehsrJt8u",
        "outputId": "cbd7863b-0404-4089-c1a5-bd712803f680"
      },
      "execution_count": 29,
      "outputs": [
        {
          "output_type": "stream",
          "name": "stdout",
          "text": [
            "+----------+------------------+------------------+------------------+\n",
            "|CustomerID|   sum(TotalPrice)|       cum_revenue|   cum_revenue_pct|\n",
            "+----------+------------------+------------------+------------------+\n",
            "|   14646.0| 280206.0199999994| 280206.0199999994|3.1443518593730353|\n",
            "|   18102.0|259657.29999999996| 539863.3199999994| 6.058114790143701|\n",
            "|   17450.0|194550.78999999995| 734414.1099999993| 8.241280370522718|\n",
            "|   16446.0|          168472.5| 902886.6099999993|10.131806557748192|\n",
            "|   14911.0|143825.05999999988|1046711.6699999992|11.745749737253897|\n",
            "|   12415.0| 124914.5299999998| 1171626.199999999|13.147487054204507|\n",
            "|   14156.0|117379.62999999992| 1289005.829999999|14.464670952833877|\n",
            "|   17511.0| 91062.37999999989|1380068.2099999988|15.486533951608614|\n",
            "|   16029.0| 81024.84000000001|1461093.0499999989|16.395759978620468|\n",
            "|   12346.0|           77183.6| 1538276.649999999|17.261881256718294|\n",
            "|   16684.0| 66653.55999999998| 1604930.209999999| 18.00983893914008|\n",
            "|   14096.0| 65164.78999999966|1670094.9999999986|18.741090282712758|\n",
            "|   13694.0|          65039.62|1735134.6199999987|19.470937022193645|\n",
            "|   15311.0| 60767.90000000006|1795902.5199999989|20.152848350705415|\n",
            "|   13089.0| 58825.83000000011| 1854728.349999999|20.812966602053702|\n",
            "|   17949.0|          58510.48| 1913238.829999999| 21.46954613086186|\n",
            "|   15769.0|          56252.72|1969491.5499999989| 22.10079004463213|\n",
            "|   15061.0|          54534.14|2024025.6899999988|22.712748790230496|\n",
            "|   14298.0| 51527.29999999991|2075552.9899999986|23.290966066088707|\n",
            "|   14088.0| 50491.80999999998|2126044.7999999984| 23.85756351698077|\n",
            "+----------+------------------+------------------+------------------+\n",
            "only showing top 20 rows\n",
            "\n"
          ]
        }
      ]
    },
    {
      "cell_type": "markdown",
      "source": [
        "Prove Pareto Principle (20% customers = ~80% revenue)."
      ],
      "metadata": {
        "id": "bKveFMJRVAxw"
      }
    },
    {
      "cell_type": "code",
      "source": [
        "df_clean.groupBy(\"Country\")\\\n",
        "    .agg({\"Quantity\":\"avg\", \"TotalPrice\":\"avg\"})\\\n",
        "    .orderBy(col(\"avg(TotalPrice)\").desc())\\\n",
        "    .show()\n"
      ],
      "metadata": {
        "colab": {
          "base_uri": "https://localhost:8080/"
        },
        "id": "4UjdlXepJt51",
        "outputId": "26027ce8-9d03-48ce-fdde-70f231ee2b68"
      },
      "execution_count": 30,
      "outputs": [
        {
          "output_type": "stream",
          "name": "stdout",
          "text": [
            "+--------------------+------------------+------------------+\n",
            "|             Country|   avg(TotalPrice)|     avg(Quantity)|\n",
            "+--------------------+------------------+------------------+\n",
            "|         Netherlands|121.00311148791828| 84.93471810089021|\n",
            "|           Australia|117.19230964466985| 70.98223350253807|\n",
            "|               Japan|116.56190031152647| 81.04672897196262|\n",
            "|           Singapore| 95.85265765765764| 23.60810810810811|\n",
            "|              Sweden| 85.09607538802658| 80.00665188470066|\n",
            "|             Denmark| 49.88247368421049| 21.67105263157895|\n",
            "|           Lithuania| 47.45885714285714| 18.62857142857143|\n",
            "|             Lebanon| 37.64177777777778| 8.577777777777778|\n",
            "|                EIRE|36.697885572139185|19.385710337202873|\n",
            "|              Brazil|35.737500000000004|            11.125|\n",
            "|              Norway|  33.7679178338002|18.054154995331466|\n",
            "|      Czech Republic|           33.0696|             26.84|\n",
            "|             Finland| 32.91398540145985|15.626277372262773|\n",
            "|              Greece|  32.8311724137931| 10.73793103448276|\n",
            "|             Bahrain|32.258823529411764|15.294117647058824|\n",
            "|         Switzerland|30.659397066811554| 16.34003259098316|\n",
            "|              Israel| 29.11971774193549| 16.31451612903226|\n",
            "|United Arab Emirates|27.974705882352943|14.441176470588236|\n",
            "|     Channel Islands| 27.34016042780748|12.688502673796792|\n",
            "|             Austria|   25.624824120603|12.263819095477388|\n",
            "+--------------------+------------------+------------------+\n",
            "only showing top 20 rows\n",
            "\n"
          ]
        }
      ]
    },
    {
      "cell_type": "code",
      "source": [
        "df_clean.groupBy(\"Year\", \"Month\", \"InvoiceNo\")\\\n",
        "    .sum(\"TotalPrice\")\\\n",
        "    .groupBy(\"Year\", \"Month\")\\\n",
        "    .avg(\"sum(TotalPrice)\")\\\n",
        "    .orderBy(\"Year\", \"Month\")\\\n",
        "    .show()\n"
      ],
      "metadata": {
        "colab": {
          "base_uri": "https://localhost:8080/"
        },
        "id": "b1XLDouKJt2l",
        "outputId": "53fb21ef-8d64-4cef-ef03-214707f4b62d"
      },
      "execution_count": 31,
      "outputs": [
        {
          "output_type": "stream",
          "name": "stdout",
          "text": [
            "+----+-----+--------------------+\n",
            "|Year|Month|avg(sum(TotalPrice))|\n",
            "+----+-----+--------------------+\n",
            "|2010|   12|  409.08135000000044|\n",
            "|2011|    1|   576.9453292806475|\n",
            "|2011|    2|   448.4827983951854|\n",
            "|2011|    3|   450.7954277062841|\n",
            "|2011|    4|   408.3554046997389|\n",
            "|2011|    5|   436.3952154340829|\n",
            "|2011|    6|  474.66883704235516|\n",
            "|2011|    7|   450.8572577009776|\n",
            "|2011|    8|  504.17492187499994|\n",
            "|2011|    9|   542.9278518518527|\n",
            "|2011|   10|   538.7863089683772|\n",
            "|2011|   11|  437.26660895747034|\n",
            "|2011|   12|   666.0575706940876|\n",
            "+----+-----+--------------------+\n",
            "\n"
          ]
        }
      ]
    },
    {
      "cell_type": "code",
      "source": [
        "df_raw = spark.read.csv(\"online_retail.csv\", header=True, inferSchema=True)\n",
        "df_returns = df_raw.filter(col(\"InvoiceNo\").startswith(\"C\"))\n",
        "df_returns.groupBy(\"Description\")\\\n",
        "    .sum(\"Quantity\")\\\n",
        "    .orderBy(col(\"sum(Quantity)\").asc())\\\n",
        "    .show(5)\n",
        "\n",
        "\n"
      ],
      "metadata": {
        "colab": {
          "base_uri": "https://localhost:8080/"
        },
        "id": "QRm54GQ1JtzX",
        "outputId": "12a2d067-0170-4acf-9488-ea360e842ba3"
      },
      "execution_count": 33,
      "outputs": [
        {
          "output_type": "stream",
          "name": "stdout",
          "text": [
            "+--------------------+-------------+\n",
            "|         Description|sum(Quantity)|\n",
            "+--------------------+-------------+\n",
            "|PAPER CRAFT , LIT...|       -80995|\n",
            "|MEDIUM CERAMIC TO...|       -74494|\n",
            "|ROTATING SILVER A...|        -9376|\n",
            "|              Manual|        -4066|\n",
            "|FAIRY CAKE FLANNE...|        -3150|\n",
            "+--------------------+-------------+\n",
            "only showing top 5 rows\n",
            "\n"
          ]
        }
      ]
    },
    {
      "cell_type": "code",
      "source": [
        "from pyspark.sql.functions import when\n",
        "\n",
        "df_buckets = df_clean.withColumn(\"OrderBucket\", when(col(\"TotalPrice\") < 50, \"<50\")\n",
        "    .when(col(\"TotalPrice\").between(50, 100), \"50-100\")\n",
        "    .when(col(\"TotalPrice\").between(101, 500), \"101-500\")\n",
        "    .otherwise(\">500\"))\n",
        "\n",
        "df_buckets.groupBy(\"OrderBucket\").count().orderBy(\"OrderBucket\").show()\n"
      ],
      "metadata": {
        "colab": {
          "base_uri": "https://localhost:8080/"
        },
        "id": "VQxAQ3veJtwJ",
        "outputId": "f674f3dd-9032-47b1-ad00-d1912896d017"
      },
      "execution_count": 34,
      "outputs": [
        {
          "output_type": "stream",
          "name": "stdout",
          "text": [
            "+-----------+------+\n",
            "|OrderBucket| count|\n",
            "+-----------+------+\n",
            "|    101-500| 10539|\n",
            "|     50-100| 15576|\n",
            "|        <50|370651|\n",
            "|       >500|  1118|\n",
            "+-----------+------+\n",
            "\n"
          ]
        }
      ]
    },
    {
      "cell_type": "markdown",
      "source": [
        "Most orders are low-value or mid-value."
      ],
      "metadata": {
        "id": "jGxSv8jVVaLu"
      }
    }
  ]
}