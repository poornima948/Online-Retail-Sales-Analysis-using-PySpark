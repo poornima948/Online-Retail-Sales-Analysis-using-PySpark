{
  "cells": [
    {
      "cell_type": "code",
      "execution_count": null,
      "metadata": {
        "colab": {
          "base_uri": "https://localhost:8080/",
          "height": 90
        },
        "id": "ydZAD76a9ret",
        "outputId": "77484a8a-a04b-4a20-ff75-7dc0c95e1251"
      },
      "outputs": [
        {
          "data": {
            "text/html": [
              "\n",
              "     <input type=\"file\" id=\"files-ddbd0069-a83b-41c9-a009-a85dfb41b66c\" name=\"files[]\" multiple disabled\n",
              "        style=\"border:none\" />\n",
              "     <output id=\"result-ddbd0069-a83b-41c9-a009-a85dfb41b66c\">\n",
              "      Upload widget is only available when the cell has been executed in the\n",
              "      current browser session. Please rerun this cell to enable.\n",
              "      </output>\n",
              "      <script>// Copyright 2017 Google LLC\n",
              "//\n",
              "// Licensed under the Apache License, Version 2.0 (the \"License\");\n",
              "// you may not use this file except in compliance with the License.\n",
              "// You may obtain a copy of the License at\n",
              "//\n",
              "//      http://www.apache.org/licenses/LICENSE-2.0\n",
              "//\n",
              "// Unless required by applicable law or agreed to in writing, software\n",
              "// distributed under the License is distributed on an \"AS IS\" BASIS,\n",
              "// WITHOUT WARRANTIES OR CONDITIONS OF ANY KIND, either express or implied.\n",
              "// See the License for the specific language governing permissions and\n",
              "// limitations under the License.\n",
              "\n",
              "/**\n",
              " * @fileoverview Helpers for google.colab Python module.\n",
              " */\n",
              "(function(scope) {\n",
              "function span(text, styleAttributes = {}) {\n",
              "  const element = document.createElement('span');\n",
              "  element.textContent = text;\n",
              "  for (const key of Object.keys(styleAttributes)) {\n",
              "    element.style[key] = styleAttributes[key];\n",
              "  }\n",
              "  return element;\n",
              "}\n",
              "\n",
              "// Max number of bytes which will be uploaded at a time.\n",
              "const MAX_PAYLOAD_SIZE = 100 * 1024;\n",
              "\n",
              "function _uploadFiles(inputId, outputId) {\n",
              "  const steps = uploadFilesStep(inputId, outputId);\n",
              "  const outputElement = document.getElementById(outputId);\n",
              "  // Cache steps on the outputElement to make it available for the next call\n",
              "  // to uploadFilesContinue from Python.\n",
              "  outputElement.steps = steps;\n",
              "\n",
              "  return _uploadFilesContinue(outputId);\n",
              "}\n",
              "\n",
              "// This is roughly an async generator (not supported in the browser yet),\n",
              "// where there are multiple asynchronous steps and the Python side is going\n",
              "// to poll for completion of each step.\n",
              "// This uses a Promise to block the python side on completion of each step,\n",
              "// then passes the result of the previous step as the input to the next step.\n",
              "function _uploadFilesContinue(outputId) {\n",
              "  const outputElement = document.getElementById(outputId);\n",
              "  const steps = outputElement.steps;\n",
              "\n",
              "  const next = steps.next(outputElement.lastPromiseValue);\n",
              "  return Promise.resolve(next.value.promise).then((value) => {\n",
              "    // Cache the last promise value to make it available to the next\n",
              "    // step of the generator.\n",
              "    outputElement.lastPromiseValue = value;\n",
              "    return next.value.response;\n",
              "  });\n",
              "}\n",
              "\n",
              "/**\n",
              " * Generator function which is called between each async step of the upload\n",
              " * process.\n",
              " * @param {string} inputId Element ID of the input file picker element.\n",
              " * @param {string} outputId Element ID of the output display.\n",
              " * @return {!Iterable<!Object>} Iterable of next steps.\n",
              " */\n",
              "function* uploadFilesStep(inputId, outputId) {\n",
              "  const inputElement = document.getElementById(inputId);\n",
              "  inputElement.disabled = false;\n",
              "\n",
              "  const outputElement = document.getElementById(outputId);\n",
              "  outputElement.innerHTML = '';\n",
              "\n",
              "  const pickedPromise = new Promise((resolve) => {\n",
              "    inputElement.addEventListener('change', (e) => {\n",
              "      resolve(e.target.files);\n",
              "    });\n",
              "  });\n",
              "\n",
              "  const cancel = document.createElement('button');\n",
              "  inputElement.parentElement.appendChild(cancel);\n",
              "  cancel.textContent = 'Cancel upload';\n",
              "  const cancelPromise = new Promise((resolve) => {\n",
              "    cancel.onclick = () => {\n",
              "      resolve(null);\n",
              "    };\n",
              "  });\n",
              "\n",
              "  // Wait for the user to pick the files.\n",
              "  const files = yield {\n",
              "    promise: Promise.race([pickedPromise, cancelPromise]),\n",
              "    response: {\n",
              "      action: 'starting',\n",
              "    }\n",
              "  };\n",
              "\n",
              "  cancel.remove();\n",
              "\n",
              "  // Disable the input element since further picks are not allowed.\n",
              "  inputElement.disabled = true;\n",
              "\n",
              "  if (!files) {\n",
              "    return {\n",
              "      response: {\n",
              "        action: 'complete',\n",
              "      }\n",
              "    };\n",
              "  }\n",
              "\n",
              "  for (const file of files) {\n",
              "    const li = document.createElement('li');\n",
              "    li.append(span(file.name, {fontWeight: 'bold'}));\n",
              "    li.append(span(\n",
              "        `(${file.type || 'n/a'}) - ${file.size} bytes, ` +\n",
              "        `last modified: ${\n",
              "            file.lastModifiedDate ? file.lastModifiedDate.toLocaleDateString() :\n",
              "                                    'n/a'} - `));\n",
              "    const percent = span('0% done');\n",
              "    li.appendChild(percent);\n",
              "\n",
              "    outputElement.appendChild(li);\n",
              "\n",
              "    const fileDataPromise = new Promise((resolve) => {\n",
              "      const reader = new FileReader();\n",
              "      reader.onload = (e) => {\n",
              "        resolve(e.target.result);\n",
              "      };\n",
              "      reader.readAsArrayBuffer(file);\n",
              "    });\n",
              "    // Wait for the data to be ready.\n",
              "    let fileData = yield {\n",
              "      promise: fileDataPromise,\n",
              "      response: {\n",
              "        action: 'continue',\n",
              "      }\n",
              "    };\n",
              "\n",
              "    // Use a chunked sending to avoid message size limits. See b/62115660.\n",
              "    let position = 0;\n",
              "    do {\n",
              "      const length = Math.min(fileData.byteLength - position, MAX_PAYLOAD_SIZE);\n",
              "      const chunk = new Uint8Array(fileData, position, length);\n",
              "      position += length;\n",
              "\n",
              "      const base64 = btoa(String.fromCharCode.apply(null, chunk));\n",
              "      yield {\n",
              "        response: {\n",
              "          action: 'append',\n",
              "          file: file.name,\n",
              "          data: base64,\n",
              "        },\n",
              "      };\n",
              "\n",
              "      let percentDone = fileData.byteLength === 0 ?\n",
              "          100 :\n",
              "          Math.round((position / fileData.byteLength) * 100);\n",
              "      percent.textContent = `${percentDone}% done`;\n",
              "\n",
              "    } while (position < fileData.byteLength);\n",
              "  }\n",
              "\n",
              "  // All done.\n",
              "  yield {\n",
              "    response: {\n",
              "      action: 'complete',\n",
              "    }\n",
              "  };\n",
              "}\n",
              "\n",
              "scope.google = scope.google || {};\n",
              "scope.google.colab = scope.google.colab || {};\n",
              "scope.google.colab._files = {\n",
              "  _uploadFiles,\n",
              "  _uploadFilesContinue,\n",
              "};\n",
              "})(self);\n",
              "</script> "
            ],
            "text/plain": [
              "<IPython.core.display.HTML object>"
            ]
          },
          "metadata": {},
          "output_type": "display_data"
        },
        {
          "name": "stdout",
          "output_type": "stream",
          "text": [
            "Saving Online Retail.xlsx to Online Retail.xlsx\n"
          ]
        }
      ],
      "source": [
        "from google.colab import files\n",
        "uploaded = files.upload()\n"
      ]
    },
    {
      "cell_type": "code",
      "execution_count": null,
      "metadata": {
        "colab": {
          "base_uri": "https://localhost:8080/"
        },
        "id": "gbQQNAgp9rYe",
        "outputId": "8f7a5c0d-8954-48ff-dab4-991eb1888791"
      },
      "outputs": [
        {
          "name": "stdout",
          "output_type": "stream",
          "text": [
            "Requirement already satisfied: pyspark in /usr/local/lib/python3.11/dist-packages (3.5.1)\n",
            "Requirement already satisfied: openpyxl in /usr/local/lib/python3.11/dist-packages (3.1.5)\n",
            "Requirement already satisfied: py4j==0.10.9.7 in /usr/local/lib/python3.11/dist-packages (from pyspark) (0.10.9.7)\n",
            "Requirement already satisfied: et-xmlfile in /usr/local/lib/python3.11/dist-packages (from openpyxl) (2.0.0)\n"
          ]
        }
      ],
      "source": [
        "!pip install pyspark openpyxl\n"
      ]
    },
    {
      "cell_type": "code",
      "execution_count": null,
      "metadata": {
        "colab": {
          "base_uri": "https://localhost:8080/",
          "height": 310
        },
        "id": "7yPqEjSp9rVI",
        "outputId": "cb973705-4ebe-403a-aaa3-6886ba8f4240"
      },
      "outputs": [
        {
          "data": {
            "application/vnd.google.colaboratory.intrinsic+json": {
              "type": "dataframe",
              "variable_name": "df_excel"
            },
            "text/html": [
              "\n",
              "  <div id=\"df-7fc6eacc-ac85-4ea0-9f27-935f85082c80\" class=\"colab-df-container\">\n",
              "    <div>\n",
              "<style scoped>\n",
              "    .dataframe tbody tr th:only-of-type {\n",
              "        vertical-align: middle;\n",
              "    }\n",
              "\n",
              "    .dataframe tbody tr th {\n",
              "        vertical-align: top;\n",
              "    }\n",
              "\n",
              "    .dataframe thead th {\n",
              "        text-align: right;\n",
              "    }\n",
              "</style>\n",
              "<table border=\"1\" class=\"dataframe\">\n",
              "  <thead>\n",
              "    <tr style=\"text-align: right;\">\n",
              "      <th></th>\n",
              "      <th>InvoiceNo</th>\n",
              "      <th>StockCode</th>\n",
              "      <th>Description</th>\n",
              "      <th>Quantity</th>\n",
              "      <th>InvoiceDate</th>\n",
              "      <th>UnitPrice</th>\n",
              "      <th>CustomerID</th>\n",
              "      <th>Country</th>\n",
              "    </tr>\n",
              "  </thead>\n",
              "  <tbody>\n",
              "    <tr>\n",
              "      <th>0</th>\n",
              "      <td>536365</td>\n",
              "      <td>85123A</td>\n",
              "      <td>WHITE HANGING HEART T-LIGHT HOLDER</td>\n",
              "      <td>6</td>\n",
              "      <td>2010-12-01 08:26:00</td>\n",
              "      <td>2.55</td>\n",
              "      <td>17850.0</td>\n",
              "      <td>United Kingdom</td>\n",
              "    </tr>\n",
              "    <tr>\n",
              "      <th>1</th>\n",
              "      <td>536365</td>\n",
              "      <td>71053</td>\n",
              "      <td>WHITE METAL LANTERN</td>\n",
              "      <td>6</td>\n",
              "      <td>2010-12-01 08:26:00</td>\n",
              "      <td>3.39</td>\n",
              "      <td>17850.0</td>\n",
              "      <td>United Kingdom</td>\n",
              "    </tr>\n",
              "    <tr>\n",
              "      <th>2</th>\n",
              "      <td>536365</td>\n",
              "      <td>84406B</td>\n",
              "      <td>CREAM CUPID HEARTS COAT HANGER</td>\n",
              "      <td>8</td>\n",
              "      <td>2010-12-01 08:26:00</td>\n",
              "      <td>2.75</td>\n",
              "      <td>17850.0</td>\n",
              "      <td>United Kingdom</td>\n",
              "    </tr>\n",
              "    <tr>\n",
              "      <th>3</th>\n",
              "      <td>536365</td>\n",
              "      <td>84029G</td>\n",
              "      <td>KNITTED UNION FLAG HOT WATER BOTTLE</td>\n",
              "      <td>6</td>\n",
              "      <td>2010-12-01 08:26:00</td>\n",
              "      <td>3.39</td>\n",
              "      <td>17850.0</td>\n",
              "      <td>United Kingdom</td>\n",
              "    </tr>\n",
              "    <tr>\n",
              "      <th>4</th>\n",
              "      <td>536365</td>\n",
              "      <td>84029E</td>\n",
              "      <td>RED WOOLLY HOTTIE WHITE HEART.</td>\n",
              "      <td>6</td>\n",
              "      <td>2010-12-01 08:26:00</td>\n",
              "      <td>3.39</td>\n",
              "      <td>17850.0</td>\n",
              "      <td>United Kingdom</td>\n",
              "    </tr>\n",
              "  </tbody>\n",
              "</table>\n",
              "</div>\n",
              "    <div class=\"colab-df-buttons\">\n",
              "\n",
              "  <div class=\"colab-df-container\">\n",
              "    <button class=\"colab-df-convert\" onclick=\"convertToInteractive('df-7fc6eacc-ac85-4ea0-9f27-935f85082c80')\"\n",
              "            title=\"Convert this dataframe to an interactive table.\"\n",
              "            style=\"display:none;\">\n",
              "\n",
              "  <svg xmlns=\"http://www.w3.org/2000/svg\" height=\"24px\" viewBox=\"0 -960 960 960\">\n",
              "    <path d=\"M120-120v-720h720v720H120Zm60-500h600v-160H180v160Zm220 220h160v-160H400v160Zm0 220h160v-160H400v160ZM180-400h160v-160H180v160Zm440 0h160v-160H620v160ZM180-180h160v-160H180v160Zm440 0h160v-160H620v160Z\"/>\n",
              "  </svg>\n",
              "    </button>\n",
              "\n",
              "  <style>\n",
              "    .colab-df-container {\n",
              "      display:flex;\n",
              "      gap: 12px;\n",
              "    }\n",
              "\n",
              "    .colab-df-convert {\n",
              "      background-color: #E8F0FE;\n",
              "      border: none;\n",
              "      border-radius: 50%;\n",
              "      cursor: pointer;\n",
              "      display: none;\n",
              "      fill: #1967D2;\n",
              "      height: 32px;\n",
              "      padding: 0 0 0 0;\n",
              "      width: 32px;\n",
              "    }\n",
              "\n",
              "    .colab-df-convert:hover {\n",
              "      background-color: #E2EBFA;\n",
              "      box-shadow: 0px 1px 2px rgba(60, 64, 67, 0.3), 0px 1px 3px 1px rgba(60, 64, 67, 0.15);\n",
              "      fill: #174EA6;\n",
              "    }\n",
              "\n",
              "    .colab-df-buttons div {\n",
              "      margin-bottom: 4px;\n",
              "    }\n",
              "\n",
              "    [theme=dark] .colab-df-convert {\n",
              "      background-color: #3B4455;\n",
              "      fill: #D2E3FC;\n",
              "    }\n",
              "\n",
              "    [theme=dark] .colab-df-convert:hover {\n",
              "      background-color: #434B5C;\n",
              "      box-shadow: 0px 1px 3px 1px rgba(0, 0, 0, 0.15);\n",
              "      filter: drop-shadow(0px 1px 2px rgba(0, 0, 0, 0.3));\n",
              "      fill: #FFFFFF;\n",
              "    }\n",
              "  </style>\n",
              "\n",
              "    <script>\n",
              "      const buttonEl =\n",
              "        document.querySelector('#df-7fc6eacc-ac85-4ea0-9f27-935f85082c80 button.colab-df-convert');\n",
              "      buttonEl.style.display =\n",
              "        google.colab.kernel.accessAllowed ? 'block' : 'none';\n",
              "\n",
              "      async function convertToInteractive(key) {\n",
              "        const element = document.querySelector('#df-7fc6eacc-ac85-4ea0-9f27-935f85082c80');\n",
              "        const dataTable =\n",
              "          await google.colab.kernel.invokeFunction('convertToInteractive',\n",
              "                                                    [key], {});\n",
              "        if (!dataTable) return;\n",
              "\n",
              "        const docLinkHtml = 'Like what you see? Visit the ' +\n",
              "          '<a target=\"_blank\" href=https://colab.research.google.com/notebooks/data_table.ipynb>data table notebook</a>'\n",
              "          + ' to learn more about interactive tables.';\n",
              "        element.innerHTML = '';\n",
              "        dataTable['output_type'] = 'display_data';\n",
              "        await google.colab.output.renderOutput(dataTable, element);\n",
              "        const docLink = document.createElement('div');\n",
              "        docLink.innerHTML = docLinkHtml;\n",
              "        element.appendChild(docLink);\n",
              "      }\n",
              "    </script>\n",
              "  </div>\n",
              "\n",
              "\n",
              "    <div id=\"df-ec7b4040-5a6e-4ecf-a569-3b04bec18c6b\">\n",
              "      <button class=\"colab-df-quickchart\" onclick=\"quickchart('df-ec7b4040-5a6e-4ecf-a569-3b04bec18c6b')\"\n",
              "                title=\"Suggest charts\"\n",
              "                style=\"display:none;\">\n",
              "\n",
              "<svg xmlns=\"http://www.w3.org/2000/svg\" height=\"24px\"viewBox=\"0 0 24 24\"\n",
              "     width=\"24px\">\n",
              "    <g>\n",
              "        <path d=\"M19 3H5c-1.1 0-2 .9-2 2v14c0 1.1.9 2 2 2h14c1.1 0 2-.9 2-2V5c0-1.1-.9-2-2-2zM9 17H7v-7h2v7zm4 0h-2V7h2v10zm4 0h-2v-4h2v4z\"/>\n",
              "    </g>\n",
              "</svg>\n",
              "      </button>\n",
              "\n",
              "<style>\n",
              "  .colab-df-quickchart {\n",
              "      --bg-color: #E8F0FE;\n",
              "      --fill-color: #1967D2;\n",
              "      --hover-bg-color: #E2EBFA;\n",
              "      --hover-fill-color: #174EA6;\n",
              "      --disabled-fill-color: #AAA;\n",
              "      --disabled-bg-color: #DDD;\n",
              "  }\n",
              "\n",
              "  [theme=dark] .colab-df-quickchart {\n",
              "      --bg-color: #3B4455;\n",
              "      --fill-color: #D2E3FC;\n",
              "      --hover-bg-color: #434B5C;\n",
              "      --hover-fill-color: #FFFFFF;\n",
              "      --disabled-bg-color: #3B4455;\n",
              "      --disabled-fill-color: #666;\n",
              "  }\n",
              "\n",
              "  .colab-df-quickchart {\n",
              "    background-color: var(--bg-color);\n",
              "    border: none;\n",
              "    border-radius: 50%;\n",
              "    cursor: pointer;\n",
              "    display: none;\n",
              "    fill: var(--fill-color);\n",
              "    height: 32px;\n",
              "    padding: 0;\n",
              "    width: 32px;\n",
              "  }\n",
              "\n",
              "  .colab-df-quickchart:hover {\n",
              "    background-color: var(--hover-bg-color);\n",
              "    box-shadow: 0 1px 2px rgba(60, 64, 67, 0.3), 0 1px 3px 1px rgba(60, 64, 67, 0.15);\n",
              "    fill: var(--button-hover-fill-color);\n",
              "  }\n",
              "\n",
              "  .colab-df-quickchart-complete:disabled,\n",
              "  .colab-df-quickchart-complete:disabled:hover {\n",
              "    background-color: var(--disabled-bg-color);\n",
              "    fill: var(--disabled-fill-color);\n",
              "    box-shadow: none;\n",
              "  }\n",
              "\n",
              "  .colab-df-spinner {\n",
              "    border: 2px solid var(--fill-color);\n",
              "    border-color: transparent;\n",
              "    border-bottom-color: var(--fill-color);\n",
              "    animation:\n",
              "      spin 1s steps(1) infinite;\n",
              "  }\n",
              "\n",
              "  @keyframes spin {\n",
              "    0% {\n",
              "      border-color: transparent;\n",
              "      border-bottom-color: var(--fill-color);\n",
              "      border-left-color: var(--fill-color);\n",
              "    }\n",
              "    20% {\n",
              "      border-color: transparent;\n",
              "      border-left-color: var(--fill-color);\n",
              "      border-top-color: var(--fill-color);\n",
              "    }\n",
              "    30% {\n",
              "      border-color: transparent;\n",
              "      border-left-color: var(--fill-color);\n",
              "      border-top-color: var(--fill-color);\n",
              "      border-right-color: var(--fill-color);\n",
              "    }\n",
              "    40% {\n",
              "      border-color: transparent;\n",
              "      border-right-color: var(--fill-color);\n",
              "      border-top-color: var(--fill-color);\n",
              "    }\n",
              "    60% {\n",
              "      border-color: transparent;\n",
              "      border-right-color: var(--fill-color);\n",
              "    }\n",
              "    80% {\n",
              "      border-color: transparent;\n",
              "      border-right-color: var(--fill-color);\n",
              "      border-bottom-color: var(--fill-color);\n",
              "    }\n",
              "    90% {\n",
              "      border-color: transparent;\n",
              "      border-bottom-color: var(--fill-color);\n",
              "    }\n",
              "  }\n",
              "</style>\n",
              "\n",
              "      <script>\n",
              "        async function quickchart(key) {\n",
              "          const quickchartButtonEl =\n",
              "            document.querySelector('#' + key + ' button');\n",
              "          quickchartButtonEl.disabled = true;  // To prevent multiple clicks.\n",
              "          quickchartButtonEl.classList.add('colab-df-spinner');\n",
              "          try {\n",
              "            const charts = await google.colab.kernel.invokeFunction(\n",
              "                'suggestCharts', [key], {});\n",
              "          } catch (error) {\n",
              "            console.error('Error during call to suggestCharts:', error);\n",
              "          }\n",
              "          quickchartButtonEl.classList.remove('colab-df-spinner');\n",
              "          quickchartButtonEl.classList.add('colab-df-quickchart-complete');\n",
              "        }\n",
              "        (() => {\n",
              "          let quickchartButtonEl =\n",
              "            document.querySelector('#df-ec7b4040-5a6e-4ecf-a569-3b04bec18c6b button');\n",
              "          quickchartButtonEl.style.display =\n",
              "            google.colab.kernel.accessAllowed ? 'block' : 'none';\n",
              "        })();\n",
              "      </script>\n",
              "    </div>\n",
              "\n",
              "    </div>\n",
              "  </div>\n"
            ],
            "text/plain": [
              "  InvoiceNo StockCode                          Description  Quantity  \\\n",
              "0    536365    85123A   WHITE HANGING HEART T-LIGHT HOLDER         6   \n",
              "1    536365     71053                  WHITE METAL LANTERN         6   \n",
              "2    536365    84406B       CREAM CUPID HEARTS COAT HANGER         8   \n",
              "3    536365    84029G  KNITTED UNION FLAG HOT WATER BOTTLE         6   \n",
              "4    536365    84029E       RED WOOLLY HOTTIE WHITE HEART.         6   \n",
              "\n",
              "          InvoiceDate  UnitPrice  CustomerID         Country  \n",
              "0 2010-12-01 08:26:00       2.55     17850.0  United Kingdom  \n",
              "1 2010-12-01 08:26:00       3.39     17850.0  United Kingdom  \n",
              "2 2010-12-01 08:26:00       2.75     17850.0  United Kingdom  \n",
              "3 2010-12-01 08:26:00       3.39     17850.0  United Kingdom  \n",
              "4 2010-12-01 08:26:00       3.39     17850.0  United Kingdom  "
            ]
          },
          "execution_count": 3,
          "metadata": {},
          "output_type": "execute_result"
        }
      ],
      "source": [
        "import pandas as pd\n",
        "\n",
        "# Read Excel\n",
        "df_excel = pd.read_excel(\"Online Retail.xlsx\")\n",
        "\n",
        "# Quick check\n",
        "df_excel.head()"
      ]
    },
    {
      "cell_type": "code",
      "execution_count": null,
      "metadata": {
        "colab": {
          "base_uri": "https://localhost:8080/"
        },
        "id": "mM29VqSY9rOW",
        "outputId": "54709700-bfee-49af-adb2-1dd5fb605213"
      },
      "outputs": [
        {
          "name": "stdout",
          "output_type": "stream",
          "text": [
            "✅ Saved as 'online_retail.csv'\n"
          ]
        }
      ],
      "source": [
        "df_excel.to_csv(\"online_retail.csv\", index=False)\n",
        "print(\"✅ Saved as 'online_retail.csv'\")"
      ]
    },
    {
      "cell_type": "code",
      "execution_count": 2,
      "metadata": {
        "id": "d2NnVYTz9rH6"
      },
      "outputs": [],
      "source": [
        "from pyspark.sql import SparkSession\n",
        "\n",
        "spark = SparkSession.builder.appName(\"OnlineRetailAnalysis\").getOrCreate()"
      ]
    },
    {
      "cell_type": "code",
      "execution_count": 9,
      "metadata": {
        "colab": {
          "base_uri": "https://localhost:8080/"
        },
        "id": "FUo6_Vrv9rBd",
        "outputId": "3fd5c7ac-bb65-4663-e1cb-8a178a0840b7"
      },
      "outputs": [
        {
          "output_type": "stream",
          "name": "stdout",
          "text": [
            "root\n",
            " |-- InvoiceNo: string (nullable = true)\n",
            " |-- StockCode: string (nullable = true)\n",
            " |-- Description: string (nullable = true)\n",
            " |-- Quantity: integer (nullable = true)\n",
            " |-- InvoiceDate: timestamp (nullable = true)\n",
            " |-- UnitPrice: double (nullable = true)\n",
            " |-- CustomerID: double (nullable = true)\n",
            " |-- Country: string (nullable = true)\n",
            "\n",
            "+---------+---------+--------------------+--------+-------------------+---------+----------+--------------+\n",
            "|InvoiceNo|StockCode|         Description|Quantity|        InvoiceDate|UnitPrice|CustomerID|       Country|\n",
            "+---------+---------+--------------------+--------+-------------------+---------+----------+--------------+\n",
            "|   536365|   85123A|WHITE HANGING HEA...|       6|2010-12-01 08:26:00|     2.55|   17850.0|United Kingdom|\n",
            "|   536365|    71053| WHITE METAL LANTERN|       6|2010-12-01 08:26:00|     3.39|   17850.0|United Kingdom|\n",
            "|   536365|   84406B|CREAM CUPID HEART...|       8|2010-12-01 08:26:00|     2.75|   17850.0|United Kingdom|\n",
            "|   536365|   84029G|KNITTED UNION FLA...|       6|2010-12-01 08:26:00|     3.39|   17850.0|United Kingdom|\n",
            "|   536365|   84029E|RED WOOLLY HOTTIE...|       6|2010-12-01 08:26:00|     3.39|   17850.0|United Kingdom|\n",
            "|   536365|    22752|SET 7 BABUSHKA NE...|       2|2010-12-01 08:26:00|     7.65|   17850.0|United Kingdom|\n",
            "|   536365|    21730|GLASS STAR FROSTE...|       6|2010-12-01 08:26:00|     4.25|   17850.0|United Kingdom|\n",
            "|   536366|    22633|HAND WARMER UNION...|       6|2010-12-01 08:28:00|     1.85|   17850.0|United Kingdom|\n",
            "|   536366|    22632|HAND WARMER RED P...|       6|2010-12-01 08:28:00|     1.85|   17850.0|United Kingdom|\n",
            "|   536367|    84879|ASSORTED COLOUR B...|      32|2010-12-01 08:34:00|     1.69|   13047.0|United Kingdom|\n",
            "|   536367|    22745|POPPY'S PLAYHOUSE...|       6|2010-12-01 08:34:00|      2.1|   13047.0|United Kingdom|\n",
            "|   536367|    22748|POPPY'S PLAYHOUSE...|       6|2010-12-01 08:34:00|      2.1|   13047.0|United Kingdom|\n",
            "|   536367|    22749|FELTCRAFT PRINCES...|       8|2010-12-01 08:34:00|     3.75|   13047.0|United Kingdom|\n",
            "|   536367|    22310|IVORY KNITTED MUG...|       6|2010-12-01 08:34:00|     1.65|   13047.0|United Kingdom|\n",
            "|   536367|    84969|BOX OF 6 ASSORTED...|       6|2010-12-01 08:34:00|     4.25|   13047.0|United Kingdom|\n",
            "|   536367|    22623|BOX OF VINTAGE JI...|       3|2010-12-01 08:34:00|     4.95|   13047.0|United Kingdom|\n",
            "|   536367|    22622|BOX OF VINTAGE AL...|       2|2010-12-01 08:34:00|     9.95|   13047.0|United Kingdom|\n",
            "|   536367|    21754|HOME BUILDING BLO...|       3|2010-12-01 08:34:00|     5.95|   13047.0|United Kingdom|\n",
            "|   536367|    21755|LOVE BUILDING BLO...|       3|2010-12-01 08:34:00|     5.95|   13047.0|United Kingdom|\n",
            "|   536367|    21777|RECIPE BOX WITH M...|       4|2010-12-01 08:34:00|     7.95|   13047.0|United Kingdom|\n",
            "+---------+---------+--------------------+--------+-------------------+---------+----------+--------------+\n",
            "only showing top 20 rows\n",
            "\n"
          ]
        }
      ],
      "source": [
        "df = spark.read.csv(\"online_retail.csv\", header=True, inferSchema=True)\n",
        "\n",
        "df.printSchema()\n",
        "df.show(20)"
      ]
    },
    {
      "cell_type": "code",
      "execution_count": null,
      "metadata": {
        "colab": {
          "base_uri": "https://localhost:8080/"
        },
        "id": "JMuMG2z29q1F",
        "outputId": "27bc1713-7f33-46ee-fbb4-0af0ece83527"
      },
      "outputs": [
        {
          "name": "stdout",
          "output_type": "stream",
          "text": [
            "+---------------+---------------+-----------------+--------------+-----------------+---------------+----------------+-------------+\n",
            "|InvoiceNo_nulls|StockCode_nulls|Description_nulls|Quantity_nulls|InvoiceDate_nulls|UnitPrice_nulls|CustomerID_nulls|Country_nulls|\n",
            "+---------------+---------------+-----------------+--------------+-----------------+---------------+----------------+-------------+\n",
            "|              0|              0|             1454|             0|                0|              0|          135080|            0|\n",
            "+---------------+---------------+-----------------+--------------+-----------------+---------------+----------------+-------------+\n",
            "\n"
          ]
        }
      ],
      "source": [
        "from pyspark.sql.functions import count, when\n",
        "\n",
        "df.select([count(when(col(c).isNull(), c)).alias(c + \"_nulls\") for c in df.columns]).show()\n"
      ]
    },
    {
      "cell_type": "markdown",
      "metadata": {
        "id": "yrlY0pOtP56w"
      },
      "source": [
        " show count of nulls for each column individually"
      ]
    },
    {
      "cell_type": "code",
      "execution_count": 10,
      "metadata": {
        "id": "dAE_TD6L9qvL"
      },
      "outputs": [],
      "source": [
        "df_clean = df.dropna(subset=[\"Description\", \"CustomerID\"])"
      ]
    },
    {
      "cell_type": "code",
      "execution_count": null,
      "metadata": {
        "colab": {
          "base_uri": "https://localhost:8080/"
        },
        "id": "2UBlYBuA9qsC",
        "outputId": "8706dcef-5148-4303-e90b-41e85bc2c49e"
      },
      "outputs": [
        {
          "name": "stdout",
          "output_type": "stream",
          "text": [
            "Original row count: 541909\n",
            "Cleaned row count: 406829\n"
          ]
        }
      ],
      "source": [
        "print(\"Original row count:\", df.count())\n",
        "print(\"Cleaned row count:\", df_clean.count())\n"
      ]
    },
    {
      "cell_type": "code",
      "execution_count": 11,
      "metadata": {
        "colab": {
          "base_uri": "https://localhost:8080/"
        },
        "id": "as-ChF299ql0",
        "outputId": "853a46b3-09a9-484a-f09c-02d61a5cfbf6"
      },
      "outputs": [
        {
          "output_type": "stream",
          "name": "stdout",
          "text": [
            "+---------+\n",
            "|InvoiceNo|\n",
            "+---------+\n",
            "|   536365|\n",
            "|   536365|\n",
            "|   536365|\n",
            "|   536365|\n",
            "|   536365|\n",
            "+---------+\n",
            "only showing top 5 rows\n",
            "\n"
          ]
        }
      ],
      "source": [
        "from pyspark.sql.functions import col\n",
        "df_clean = df_clean.filter(~col(\"InvoiceNo\").startswith(\"C\"))\n",
        "df_clean.select(\"InvoiceNo\").show(5)"
      ]
    },
    {
      "cell_type": "code",
      "execution_count": null,
      "metadata": {
        "colab": {
          "base_uri": "https://localhost:8080/"
        },
        "id": "XXPGJB419qfP",
        "outputId": "197fb5ba-4bd2-43ea-c658-6d61bf714bc3"
      },
      "outputs": [
        {
          "name": "stdout",
          "output_type": "stream",
          "text": [
            "+---------+---------+--------------------+--------+-------------------+---------+----------+--------------+\n",
            "|InvoiceNo|StockCode|         Description|Quantity|        InvoiceDate|UnitPrice|CustomerID|       Country|\n",
            "+---------+---------+--------------------+--------+-------------------+---------+----------+--------------+\n",
            "|   536365|   85123A|WHITE HANGING HEA...|       6|2010-12-01 08:26:00|     2.55|   17850.0|United Kingdom|\n",
            "|   536365|    71053| WHITE METAL LANTERN|       6|2010-12-01 08:26:00|     3.39|   17850.0|United Kingdom|\n",
            "|   536365|   84406B|CREAM CUPID HEART...|       8|2010-12-01 08:26:00|     2.75|   17850.0|United Kingdom|\n",
            "|   536365|   84029G|KNITTED UNION FLA...|       6|2010-12-01 08:26:00|     3.39|   17850.0|United Kingdom|\n",
            "|   536365|   84029E|RED WOOLLY HOTTIE...|       6|2010-12-01 08:26:00|     3.39|   17850.0|United Kingdom|\n",
            "|   536365|    22752|SET 7 BABUSHKA NE...|       2|2010-12-01 08:26:00|     7.65|   17850.0|United Kingdom|\n",
            "|   536365|    21730|GLASS STAR FROSTE...|       6|2010-12-01 08:26:00|     4.25|   17850.0|United Kingdom|\n",
            "|   536366|    22633|HAND WARMER UNION...|       6|2010-12-01 08:28:00|     1.85|   17850.0|United Kingdom|\n",
            "|   536366|    22632|HAND WARMER RED P...|       6|2010-12-01 08:28:00|     1.85|   17850.0|United Kingdom|\n",
            "|   536367|    84879|ASSORTED COLOUR B...|      32|2010-12-01 08:34:00|     1.69|   13047.0|United Kingdom|\n",
            "|   536367|    22745|POPPY'S PLAYHOUSE...|       6|2010-12-01 08:34:00|      2.1|   13047.0|United Kingdom|\n",
            "|   536367|    22748|POPPY'S PLAYHOUSE...|       6|2010-12-01 08:34:00|      2.1|   13047.0|United Kingdom|\n",
            "|   536367|    22749|FELTCRAFT PRINCES...|       8|2010-12-01 08:34:00|     3.75|   13047.0|United Kingdom|\n",
            "|   536367|    22310|IVORY KNITTED MUG...|       6|2010-12-01 08:34:00|     1.65|   13047.0|United Kingdom|\n",
            "|   536367|    84969|BOX OF 6 ASSORTED...|       6|2010-12-01 08:34:00|     4.25|   13047.0|United Kingdom|\n",
            "|   536367|    22623|BOX OF VINTAGE JI...|       3|2010-12-01 08:34:00|     4.95|   13047.0|United Kingdom|\n",
            "|   536367|    22622|BOX OF VINTAGE AL...|       2|2010-12-01 08:34:00|     9.95|   13047.0|United Kingdom|\n",
            "|   536367|    21754|HOME BUILDING BLO...|       3|2010-12-01 08:34:00|     5.95|   13047.0|United Kingdom|\n",
            "|   536367|    21755|LOVE BUILDING BLO...|       3|2010-12-01 08:34:00|     5.95|   13047.0|United Kingdom|\n",
            "|   536367|    21777|RECIPE BOX WITH M...|       4|2010-12-01 08:34:00|     7.95|   13047.0|United Kingdom|\n",
            "+---------+---------+--------------------+--------+-------------------+---------+----------+--------------+\n",
            "only showing top 20 rows\n",
            "\n"
          ]
        }
      ],
      "source": [
        "df_clean = df_clean.filter((col(\"Quantity\") > 0) & (col(\"UnitPrice\") > 0))\n",
        "df_clean.show()\n"
      ]
    },
    {
      "cell_type": "code",
      "execution_count": 13,
      "metadata": {
        "colab": {
          "base_uri": "https://localhost:8080/"
        },
        "id": "abexakex9nVR",
        "outputId": "17da7c06-6b54-49cd-9e22-b72b49284191"
      },
      "outputs": [
        {
          "output_type": "stream",
          "name": "stdout",
          "text": [
            "+---------+---------+--------------------+--------+-------------------+---------+----------+--------------+----------+\n",
            "|InvoiceNo|StockCode|         Description|Quantity|        InvoiceDate|UnitPrice|CustomerID|       Country|TotalPrice|\n",
            "+---------+---------+--------------------+--------+-------------------+---------+----------+--------------+----------+\n",
            "|   536365|   85123A|WHITE HANGING HEA...|       6|2010-12-01 08:26:00|     2.55|   17850.0|United Kingdom|      15.3|\n",
            "|   536365|    71053| WHITE METAL LANTERN|       6|2010-12-01 08:26:00|     3.39|   17850.0|United Kingdom|     20.34|\n",
            "|   536365|   84406B|CREAM CUPID HEART...|       8|2010-12-01 08:26:00|     2.75|   17850.0|United Kingdom|      22.0|\n",
            "|   536365|   84029G|KNITTED UNION FLA...|       6|2010-12-01 08:26:00|     3.39|   17850.0|United Kingdom|     20.34|\n",
            "|   536365|   84029E|RED WOOLLY HOTTIE...|       6|2010-12-01 08:26:00|     3.39|   17850.0|United Kingdom|     20.34|\n",
            "|   536365|    22752|SET 7 BABUSHKA NE...|       2|2010-12-01 08:26:00|     7.65|   17850.0|United Kingdom|      15.3|\n",
            "|   536365|    21730|GLASS STAR FROSTE...|       6|2010-12-01 08:26:00|     4.25|   17850.0|United Kingdom|      25.5|\n",
            "|   536366|    22633|HAND WARMER UNION...|       6|2010-12-01 08:28:00|     1.85|   17850.0|United Kingdom|      11.1|\n",
            "|   536366|    22632|HAND WARMER RED P...|       6|2010-12-01 08:28:00|     1.85|   17850.0|United Kingdom|      11.1|\n",
            "|   536367|    84879|ASSORTED COLOUR B...|      32|2010-12-01 08:34:00|     1.69|   13047.0|United Kingdom|     54.08|\n",
            "|   536367|    22745|POPPY'S PLAYHOUSE...|       6|2010-12-01 08:34:00|      2.1|   13047.0|United Kingdom|      12.6|\n",
            "|   536367|    22748|POPPY'S PLAYHOUSE...|       6|2010-12-01 08:34:00|      2.1|   13047.0|United Kingdom|      12.6|\n",
            "|   536367|    22749|FELTCRAFT PRINCES...|       8|2010-12-01 08:34:00|     3.75|   13047.0|United Kingdom|      30.0|\n",
            "|   536367|    22310|IVORY KNITTED MUG...|       6|2010-12-01 08:34:00|     1.65|   13047.0|United Kingdom|       9.9|\n",
            "|   536367|    84969|BOX OF 6 ASSORTED...|       6|2010-12-01 08:34:00|     4.25|   13047.0|United Kingdom|      25.5|\n",
            "|   536367|    22623|BOX OF VINTAGE JI...|       3|2010-12-01 08:34:00|     4.95|   13047.0|United Kingdom|     14.85|\n",
            "|   536367|    22622|BOX OF VINTAGE AL...|       2|2010-12-01 08:34:00|     9.95|   13047.0|United Kingdom|      19.9|\n",
            "|   536367|    21754|HOME BUILDING BLO...|       3|2010-12-01 08:34:00|     5.95|   13047.0|United Kingdom|     17.85|\n",
            "|   536367|    21755|LOVE BUILDING BLO...|       3|2010-12-01 08:34:00|     5.95|   13047.0|United Kingdom|     17.85|\n",
            "|   536367|    21777|RECIPE BOX WITH M...|       4|2010-12-01 08:34:00|     7.95|   13047.0|United Kingdom|      31.8|\n",
            "+---------+---------+--------------------+--------+-------------------+---------+----------+--------------+----------+\n",
            "only showing top 20 rows\n",
            "\n"
          ]
        }
      ],
      "source": [
        "from pyspark.sql.functions import round, col\n",
        "\n",
        "df_clean = df_clean.withColumn(\"TotalPrice\", round(col(\"Quantity\") * col(\"UnitPrice\"), 2))\n",
        "df_clean.show()"
      ]
    },
    {
      "cell_type": "markdown",
      "metadata": {
        "id": "E4f17eY7TUM-"
      },
      "source": [
        "new column \"TotalPrice\" is created."
      ]
    },
    {
      "cell_type": "code",
      "execution_count": 14,
      "metadata": {
        "id": "D5kUwUmFJuea"
      },
      "outputs": [],
      "source": [
        "from pyspark.sql.functions import to_timestamp, year, month, dayofmonth, hour, col\n",
        "\n",
        "df_clean = df_clean.withColumn(\"InvoiceTS\", to_timestamp(col(\"InvoiceDate\")))\n",
        "df_clean = df_clean.withColumn(\"Year\", year(col(\"InvoiceTS\")))\n",
        "df_clean = df_clean.withColumn(\"Month\", month(col(\"InvoiceTS\")))\n",
        "df_clean = df_clean.withColumn(\"Day\", dayofmonth(col(\"InvoiceTS\")))\n",
        "df_clean = df_clean.withColumn(\"Hour\", hour(col(\"InvoiceTS\")))"
      ]
    },
    {
      "cell_type": "code",
      "execution_count": null,
      "metadata": {
        "colab": {
          "base_uri": "https://localhost:8080/"
        },
        "id": "JV-JEz2PJua-",
        "outputId": "0da373ac-e473-4add-97b8-06562c9dbcf0"
      },
      "outputs": [
        {
          "name": "stdout",
          "output_type": "stream",
          "text": [
            "+---------+----------+--------+---------+----------+----+-----+\n",
            "|InvoiceNo|CustomerID|Quantity|UnitPrice|TotalPrice|Year|Month|\n",
            "+---------+----------+--------+---------+----------+----+-----+\n",
            "|   536365|   17850.0|       6|     2.55|      15.3|2010|   12|\n",
            "|   536365|   17850.0|       6|     3.39|     20.34|2010|   12|\n",
            "|   536365|   17850.0|       8|     2.75|      22.0|2010|   12|\n",
            "|   536365|   17850.0|       6|     3.39|     20.34|2010|   12|\n",
            "|   536365|   17850.0|       6|     3.39|     20.34|2010|   12|\n",
            "+---------+----------+--------+---------+----------+----+-----+\n",
            "only showing top 5 rows\n",
            "\n"
          ]
        }
      ],
      "source": [
        "df_clean.select(\"InvoiceNo\",\"CustomerID\",\"Quantity\",\"UnitPrice\",\"TotalPrice\",\"Year\",\"Month\").show(5)\n"
      ]
    },
    {
      "cell_type": "markdown",
      "metadata": {
        "id": "JQ0Dvg_sZ8oQ"
      },
      "source": [
        "cleaned data for further analysis\n"
      ]
    },
    {
      "cell_type": "code",
      "execution_count": null,
      "metadata": {
        "colab": {
          "base_uri": "https://localhost:8080/"
        },
        "id": "FzGT8e8WJuX9",
        "outputId": "ea5eff3d-788b-4d6a-8038-7ac384ef0b6c"
      },
      "outputs": [
        {
          "name": "stdout",
          "output_type": "stream",
          "text": [
            "+-----------------+\n",
            "|  sum(TotalPrice)|\n",
            "+-----------------+\n",
            "|8911407.900001075|\n",
            "+-----------------+\n",
            "\n"
          ]
        }
      ],
      "source": [
        "df_clean.agg({\"TotalPrice\": \"sum\"}).show()\n"
      ]
    },
    {
      "cell_type": "code",
      "execution_count": 16,
      "metadata": {
        "colab": {
          "base_uri": "https://localhost:8080/"
        },
        "id": "DF08wSvxJuUy",
        "outputId": "1f8d680b-3f5e-4ab6-9848-6dbb407ac87b"
      },
      "outputs": [
        {
          "output_type": "stream",
          "name": "stdout",
          "text": [
            "+----+-----+------------------+\n",
            "|Year|Month|   sum(TotalPrice)|\n",
            "+----+-----+------------------+\n",
            "|2010|   12| 572713.8900000163|\n",
            "|2011|    1| 569445.0400000077|\n",
            "|2011|    2| 447137.3500000165|\n",
            "|2011|    3|  595500.760000013|\n",
            "|2011|    4| 469200.3600000132|\n",
            "|2011|    5| 678594.5600000018|\n",
            "|2011|    6| 661213.6900000116|\n",
            "|2011|    7| 600091.0100000141|\n",
            "|2011|    8| 645343.9000000068|\n",
            "|2011|    9| 952838.3799999963|\n",
            "|2011|   10|1039318.7899999822|\n",
            "|2011|   11|1161817.3799999433|\n",
            "|2011|   12| 518192.7900000037|\n",
            "+----+-----+------------------+\n",
            "\n"
          ]
        }
      ],
      "source": [
        "df_clean.groupBy(\"Year\", \"Month\")\\\n",
        "    .sum(\"TotalPrice\")\\\n",
        "    .orderBy(\"Year\", \"Month\")\\\n",
        "    .show(30)"
      ]
    },
    {
      "cell_type": "markdown",
      "metadata": {
        "id": "Ti3gRAw7Qe-I"
      },
      "source": [
        "Revenue peaked during October,November and December, likely due to holiday shopping."
      ]
    },
    {
      "cell_type": "code",
      "execution_count": null,
      "metadata": {
        "colab": {
          "base_uri": "https://localhost:8080/"
        },
        "id": "sdKmHxB3JuRo",
        "outputId": "231ef737-bbb4-4c6a-e9f2-c02bbcda8f37"
      },
      "outputs": [
        {
          "name": "stdout",
          "output_type": "stream",
          "text": [
            "+--------------+------------------+\n",
            "|       Country|   sum(TotalPrice)|\n",
            "+--------------+------------------+\n",
            "|United Kingdom| 7308391.550000223|\n",
            "|   Netherlands| 285446.3399999992|\n",
            "|          EIRE|265545.89999999915|\n",
            "|       Germany|228867.14000000025|\n",
            "|        France|209024.05000000025|\n",
            "+--------------+------------------+\n",
            "only showing top 5 rows\n",
            "\n"
          ]
        }
      ],
      "source": [
        "df_clean.groupBy(\"Country\")\\\n",
        "    .sum(\"TotalPrice\")\\\n",
        "    .orderBy(col(\"sum(TotalPrice)\").desc())\\\n",
        "    .show(5)\n"
      ]
    },
    {
      "cell_type": "markdown",
      "metadata": {
        "id": "DvDp6DFZSLGX"
      },
      "source": [
        "The UK is by far the largest market, followed by the Netherlands and Germany."
      ]
    },
    {
      "cell_type": "code",
      "execution_count": null,
      "metadata": {
        "colab": {
          "base_uri": "https://localhost:8080/"
        },
        "id": "ShmHimWeJuOm",
        "outputId": "3c62cfcd-8d7e-41e7-8520-9a86fed40976"
      },
      "outputs": [
        {
          "name": "stdout",
          "output_type": "stream",
          "text": [
            "+--------------------+-------------+\n",
            "|         Description|sum(Quantity)|\n",
            "+--------------------+-------------+\n",
            "|PAPER CRAFT , LIT...|        80995|\n",
            "|MEDIUM CERAMIC TO...|        77916|\n",
            "|WORLD WAR 2 GLIDE...|        54415|\n",
            "|JUMBO BAG RED RET...|        46181|\n",
            "|WHITE HANGING HEA...|        36725|\n",
            "+--------------------+-------------+\n",
            "only showing top 5 rows\n",
            "\n"
          ]
        }
      ],
      "source": [
        "df_clean.groupBy(\"Description\")\\\n",
        "    .sum(\"Quantity\")\\\n",
        "    .orderBy(col(\"sum(Quantity)\").desc())\\\n",
        "    .show(5)\n"
      ]
    },
    {
      "cell_type": "code",
      "execution_count": null,
      "metadata": {
        "colab": {
          "base_uri": "https://localhost:8080/"
        },
        "id": "UnZHbK9cJuLf",
        "outputId": "6bcad130-477e-4c50-e85a-47a3a76e5dcf"
      },
      "outputs": [
        {
          "name": "stdout",
          "output_type": "stream",
          "text": [
            "+--------------------+\n",
            "|avg(sum(TotalPrice))|\n",
            "+--------------------+\n",
            "|  480.86595618390015|\n",
            "+--------------------+\n",
            "\n"
          ]
        }
      ],
      "source": [
        "df_clean.groupBy(\"InvoiceNo\")\\\n",
        "    .agg({\"TotalPrice\": \"sum\"})\\\n",
        "    .agg({\"sum(TotalPrice)\": \"avg\"})\\\n",
        "    .show()\n"
      ]
    },
    {
      "cell_type": "code",
      "execution_count": null,
      "metadata": {
        "colab": {
          "base_uri": "https://localhost:8080/"
        },
        "id": "IzGUi5CHJuIq",
        "outputId": "af104325-ca1a-45e3-f546-5c741f395cac"
      },
      "outputs": [
        {
          "name": "stdout",
          "output_type": "stream",
          "text": [
            "+----+------------------+\n",
            "|Hour|   sum(TotalPrice)|\n",
            "+----+------------------+\n",
            "|   6|              4.25|\n",
            "|   7|31059.209999999992|\n",
            "|   8| 282115.6299999992|\n",
            "|   9| 842605.1699999989|\n",
            "|  10| 1261192.570000025|\n",
            "|  11| 1104558.750000032|\n",
            "|  12|1378571.4800000284|\n",
            "|  13| 1173264.750000032|\n",
            "|  14| 995629.3700000381|\n",
            "|  15| 966191.7500000258|\n",
            "|  16| 468885.7999999982|\n",
            "|  17| 234413.5199999985|\n",
            "|  18|104954.43000000017|\n",
            "|  19| 49028.46000000015|\n",
            "|  20| 18932.76000000001|\n",
            "+----+------------------+\n",
            "\n"
          ]
        }
      ],
      "source": [
        "df_clean.groupBy(\"Hour\")\\\n",
        "    .sum(\"TotalPrice\")\\\n",
        "    .orderBy(\"Hour\")\\\n",
        "    .show()"
      ]
    },
    {
      "cell_type": "markdown",
      "metadata": {
        "id": "OH3SX9jqSlNp"
      },
      "source": [
        "Most orders were placed between 10 AM and 3 PM."
      ]
    },
    {
      "cell_type": "code",
      "execution_count": null,
      "metadata": {
        "colab": {
          "base_uri": "https://localhost:8080/"
        },
        "id": "nlSMlKBJJuF5",
        "outputId": "347b12f7-56d0-4305-b756-ebbc75caba98"
      },
      "outputs": [
        {
          "name": "stdout",
          "output_type": "stream",
          "text": [
            "+----------+------------------+\n",
            "|CustomerID|   sum(TotalPrice)|\n",
            "+----------+------------------+\n",
            "|   14646.0| 280206.0199999994|\n",
            "|   18102.0|259657.29999999996|\n",
            "|   17450.0|194550.78999999995|\n",
            "|   16446.0|          168472.5|\n",
            "|   14911.0|143825.05999999988|\n",
            "|   12415.0| 124914.5299999998|\n",
            "|   14156.0|117379.62999999992|\n",
            "|   17511.0| 91062.37999999989|\n",
            "|   16029.0| 81024.84000000001|\n",
            "|   12346.0|           77183.6|\n",
            "+----------+------------------+\n",
            "only showing top 10 rows\n",
            "\n"
          ]
        }
      ],
      "source": [
        "df_clean.groupBy(\"CustomerID\")\\\n",
        "    .sum(\"TotalPrice\")\\\n",
        "    .orderBy(col(\"sum(TotalPrice)\").desc())\\\n",
        "    .show(10)\n"
      ]
    },
    {
      "cell_type": "markdown",
      "metadata": {
        "id": "plrBF1LJUQH-"
      },
      "source": [
        "Top 10 customers accounted for 25% of total revenue."
      ]
    },
    {
      "cell_type": "code",
      "execution_count": null,
      "metadata": {
        "colab": {
          "base_uri": "https://localhost:8080/"
        },
        "id": "ddVEkiwwJuCp",
        "outputId": "dc36c317-0d5c-4c3d-ed0e-0deb86a8cd9c"
      },
      "outputs": [
        {
          "name": "stdout",
          "output_type": "stream",
          "text": [
            "+---------+----+-----+------------------+\n",
            "|Country  |Year|Month|sum(TotalPrice)   |\n",
            "+---------+----+-----+------------------+\n",
            "|Australia|2010|12   |1032.85           |\n",
            "|Australia|2011|1    |9017.709999999995 |\n",
            "|Australia|2011|2    |14695.419999999996|\n",
            "|Australia|2011|3    |17223.990000000013|\n",
            "|Australia|2011|4    |771.6000000000001 |\n",
            "|Australia|2011|5    |13638.410000000005|\n",
            "|Australia|2011|6    |25187.769999999997|\n",
            "|Australia|2011|7    |4964.37999999999  |\n",
            "|Australia|2011|8    |22489.199999999993|\n",
            "|Australia|2011|9    |5106.7300000000005|\n",
            "|Australia|2011|10   |17150.53          |\n",
            "|Australia|2011|11   |7242.719999999999 |\n",
            "|Austria  |2010|12   |277.2             |\n",
            "|Austria  |2011|2    |518.3600000000001 |\n",
            "|Austria  |2011|3    |1708.12           |\n",
            "|Austria  |2011|4    |680.7800000000001 |\n",
            "|Austria  |2011|5    |1249.4299999999998|\n",
            "|Austria  |2011|7    |1191.9499999999998|\n",
            "|Austria  |2011|8    |1516.0799999999997|\n",
            "|Austria  |2011|10   |1043.7799999999997|\n",
            "+---------+----+-----+------------------+\n",
            "only showing top 20 rows\n",
            "\n"
          ]
        }
      ],
      "source": [
        "df_clean.groupBy(\"Country\", \"Year\", \"Month\")\\\n",
        "    .sum(\"TotalPrice\")\\\n",
        "    .orderBy(\"Country\", \"Year\", \"Month\")\\\n",
        "    .show(20, truncate=False)\n"
      ]
    },
    {
      "cell_type": "code",
      "execution_count": null,
      "metadata": {
        "colab": {
          "base_uri": "https://localhost:8080/"
        },
        "id": "lspCe9BCJt_q",
        "outputId": "45a61f7c-402c-4002-b199-55da63943ee0"
      },
      "outputs": [
        {
          "name": "stdout",
          "output_type": "stream",
          "text": [
            "+---------------+-----------------------------------+-------------+----+\n",
            "|Country        |Description                        |sum(Quantity)|rank|\n",
            "+---------------+-----------------------------------+-------------+----+\n",
            "|Australia      |MINI PAINT SET VINTAGE             |2952         |1   |\n",
            "|Australia      |RABBIT NIGHT LIGHT                 |1884         |2   |\n",
            "|Australia      |RED  HARMONICA IN BOX              |1704         |3   |\n",
            "|Austria        |SET 12 KIDS COLOUR  CHALK STICKS   |288          |1   |\n",
            "|Austria        |MINI JIGSAW PURDEY                 |240          |2   |\n",
            "|Austria        |PACK OF 6 SWEETIE GIFT BOXES       |144          |3   |\n",
            "|Bahrain        |ICE CREAM SUNDAE LIP GLOSS         |96           |1   |\n",
            "|Bahrain        |DOUGHNUT LIP GLOSS                 |60           |2   |\n",
            "|Bahrain        |GROW A FLYTRAP OR SUNFLOWER IN TIN |24           |3   |\n",
            "|Belgium        |PACK OF 72 RETROSPOT CAKE CASES    |480          |1   |\n",
            "|Belgium        |ROUND SNACK BOXES SET OF4 WOODLAND |420          |2   |\n",
            "|Belgium        |PACK OF 60 SPACEBOY CAKE CASES     |384          |3   |\n",
            "|Brazil         |SET OF 4 PANTRY JELLY MOULDS       |24           |1   |\n",
            "|Brazil         |GREEN REGENCY TEACUP AND SAUCER    |24           |2   |\n",
            "|Brazil         |DOLLY GIRL LUNCH BOX               |24           |3   |\n",
            "|Canada         |RETRO COFFEE MUGS ASSORTED         |504          |1   |\n",
            "|Canada         |WORLD WAR 2 GLIDERS ASSTD DESIGNS  |288          |2   |\n",
            "|Canada         |COLOURING PENCILS BROWN TUBE       |60           |3   |\n",
            "|Channel Islands|RAIN PONCHO                        |407          |1   |\n",
            "|Channel Islands|JUMBO BAG RED RETROSPOT            |250          |2   |\n",
            "+---------------+-----------------------------------+-------------+----+\n",
            "only showing top 20 rows\n",
            "\n"
          ]
        }
      ],
      "source": [
        "from pyspark.sql.functions import row_number\n",
        "from pyspark.sql.window import Window\n",
        "\n",
        "windowSpec = Window.partitionBy(\"Country\").orderBy(col(\"sum(Quantity)\").desc())\n",
        "\n",
        "top_products_country = df_clean.groupBy(\"Country\", \"Description\")\\\n",
        "    .sum(\"Quantity\")\\\n",
        "    .withColumn(\"rank\", row_number().over(windowSpec))\\\n",
        "    .filter(col(\"rank\") <= 3)\n",
        "\n",
        "top_products_country.orderBy(\"Country\", \"rank\").show(20, truncate=False)\n"
      ]
    },
    {
      "cell_type": "markdown",
      "metadata": {
        "id": "ilq5zaK2UzKR"
      },
      "source": [
        "Customize inventory by region.\n",
        "\n"
      ]
    },
    {
      "cell_type": "code",
      "execution_count": null,
      "metadata": {
        "colab": {
          "base_uri": "https://localhost:8080/"
        },
        "id": "byjxehsrJt8u",
        "outputId": "cbd7863b-0404-4089-c1a5-bd712803f680"
      },
      "outputs": [
        {
          "name": "stdout",
          "output_type": "stream",
          "text": [
            "+----------+------------------+------------------+------------------+\n",
            "|CustomerID|   sum(TotalPrice)|       cum_revenue|   cum_revenue_pct|\n",
            "+----------+------------------+------------------+------------------+\n",
            "|   14646.0| 280206.0199999994| 280206.0199999994|3.1443518593730353|\n",
            "|   18102.0|259657.29999999996| 539863.3199999994| 6.058114790143701|\n",
            "|   17450.0|194550.78999999995| 734414.1099999993| 8.241280370522718|\n",
            "|   16446.0|          168472.5| 902886.6099999993|10.131806557748192|\n",
            "|   14911.0|143825.05999999988|1046711.6699999992|11.745749737253897|\n",
            "|   12415.0| 124914.5299999998| 1171626.199999999|13.147487054204507|\n",
            "|   14156.0|117379.62999999992| 1289005.829999999|14.464670952833877|\n",
            "|   17511.0| 91062.37999999989|1380068.2099999988|15.486533951608614|\n",
            "|   16029.0| 81024.84000000001|1461093.0499999989|16.395759978620468|\n",
            "|   12346.0|           77183.6| 1538276.649999999|17.261881256718294|\n",
            "|   16684.0| 66653.55999999998| 1604930.209999999| 18.00983893914008|\n",
            "|   14096.0| 65164.78999999966|1670094.9999999986|18.741090282712758|\n",
            "|   13694.0|          65039.62|1735134.6199999987|19.470937022193645|\n",
            "|   15311.0| 60767.90000000006|1795902.5199999989|20.152848350705415|\n",
            "|   13089.0| 58825.83000000011| 1854728.349999999|20.812966602053702|\n",
            "|   17949.0|          58510.48| 1913238.829999999| 21.46954613086186|\n",
            "|   15769.0|          56252.72|1969491.5499999989| 22.10079004463213|\n",
            "|   15061.0|          54534.14|2024025.6899999988|22.712748790230496|\n",
            "|   14298.0| 51527.29999999991|2075552.9899999986|23.290966066088707|\n",
            "|   14088.0| 50491.80999999998|2126044.7999999984| 23.85756351698077|\n",
            "+----------+------------------+------------------+------------------+\n",
            "only showing top 20 rows\n",
            "\n"
          ]
        }
      ],
      "source": [
        "# First, total revenue\n",
        "total_revenue = df_clean.agg({\"TotalPrice\": \"sum\"}).collect()[0][0]\n",
        "\n",
        "# Revenue per customer\n",
        "customer_revenue = df_clean.groupBy(\"CustomerID\")\\\n",
        "    .sum(\"TotalPrice\")\\\n",
        "    .orderBy(col(\"sum(TotalPrice)\").desc())\n",
        "\n",
        "# Add cumulative revenue %\n",
        "from pyspark.sql.functions import sum as _sum, col\n",
        "\n",
        "windowSpecRev = Window.orderBy(col(\"sum(TotalPrice)\").desc())\n",
        "customer_revenue = customer_revenue.withColumn(\n",
        "    \"cum_revenue\", _sum(\"sum(TotalPrice)\").over(windowSpecRev)\n",
        ")\n",
        "\n",
        "customer_revenue = customer_revenue.withColumn(\n",
        "    \"cum_revenue_pct\", (col(\"cum_revenue\") / total_revenue) * 100\n",
        ")\n",
        "\n",
        "customer_revenue.show(20)\n"
      ]
    },
    {
      "cell_type": "markdown",
      "metadata": {
        "id": "bKveFMJRVAxw"
      },
      "source": [
        "Prove Pareto Principle (20% customers = ~80% revenue)."
      ]
    },
    {
      "cell_type": "code",
      "execution_count": null,
      "metadata": {
        "colab": {
          "base_uri": "https://localhost:8080/"
        },
        "id": "4UjdlXepJt51",
        "outputId": "26027ce8-9d03-48ce-fdde-70f231ee2b68"
      },
      "outputs": [
        {
          "name": "stdout",
          "output_type": "stream",
          "text": [
            "+--------------------+------------------+------------------+\n",
            "|             Country|   avg(TotalPrice)|     avg(Quantity)|\n",
            "+--------------------+------------------+------------------+\n",
            "|         Netherlands|121.00311148791828| 84.93471810089021|\n",
            "|           Australia|117.19230964466985| 70.98223350253807|\n",
            "|               Japan|116.56190031152647| 81.04672897196262|\n",
            "|           Singapore| 95.85265765765764| 23.60810810810811|\n",
            "|              Sweden| 85.09607538802658| 80.00665188470066|\n",
            "|             Denmark| 49.88247368421049| 21.67105263157895|\n",
            "|           Lithuania| 47.45885714285714| 18.62857142857143|\n",
            "|             Lebanon| 37.64177777777778| 8.577777777777778|\n",
            "|                EIRE|36.697885572139185|19.385710337202873|\n",
            "|              Brazil|35.737500000000004|            11.125|\n",
            "|              Norway|  33.7679178338002|18.054154995331466|\n",
            "|      Czech Republic|           33.0696|             26.84|\n",
            "|             Finland| 32.91398540145985|15.626277372262773|\n",
            "|              Greece|  32.8311724137931| 10.73793103448276|\n",
            "|             Bahrain|32.258823529411764|15.294117647058824|\n",
            "|         Switzerland|30.659397066811554| 16.34003259098316|\n",
            "|              Israel| 29.11971774193549| 16.31451612903226|\n",
            "|United Arab Emirates|27.974705882352943|14.441176470588236|\n",
            "|     Channel Islands| 27.34016042780748|12.688502673796792|\n",
            "|             Austria|   25.624824120603|12.263819095477388|\n",
            "+--------------------+------------------+------------------+\n",
            "only showing top 20 rows\n",
            "\n"
          ]
        }
      ],
      "source": [
        "df_clean.groupBy(\"Country\")\\\n",
        "    .agg({\"Quantity\":\"avg\", \"TotalPrice\":\"avg\"})\\\n",
        "    .orderBy(col(\"avg(TotalPrice)\").desc())\\\n",
        "    .show()\n"
      ]
    },
    {
      "cell_type": "code",
      "execution_count": null,
      "metadata": {
        "colab": {
          "base_uri": "https://localhost:8080/"
        },
        "id": "b1XLDouKJt2l",
        "outputId": "53fb21ef-8d64-4cef-ef03-214707f4b62d"
      },
      "outputs": [
        {
          "name": "stdout",
          "output_type": "stream",
          "text": [
            "+----+-----+--------------------+\n",
            "|Year|Month|avg(sum(TotalPrice))|\n",
            "+----+-----+--------------------+\n",
            "|2010|   12|  409.08135000000044|\n",
            "|2011|    1|   576.9453292806475|\n",
            "|2011|    2|   448.4827983951854|\n",
            "|2011|    3|   450.7954277062841|\n",
            "|2011|    4|   408.3554046997389|\n",
            "|2011|    5|   436.3952154340829|\n",
            "|2011|    6|  474.66883704235516|\n",
            "|2011|    7|   450.8572577009776|\n",
            "|2011|    8|  504.17492187499994|\n",
            "|2011|    9|   542.9278518518527|\n",
            "|2011|   10|   538.7863089683772|\n",
            "|2011|   11|  437.26660895747034|\n",
            "|2011|   12|   666.0575706940876|\n",
            "+----+-----+--------------------+\n",
            "\n"
          ]
        }
      ],
      "source": [
        "df_clean.groupBy(\"Year\", \"Month\", \"InvoiceNo\")\\\n",
        "    .sum(\"TotalPrice\")\\\n",
        "    .groupBy(\"Year\", \"Month\")\\\n",
        "    .avg(\"sum(TotalPrice)\")\\\n",
        "    .orderBy(\"Year\", \"Month\")\\\n",
        "    .show()\n"
      ]
    },
    {
      "cell_type": "code",
      "execution_count": null,
      "metadata": {
        "colab": {
          "base_uri": "https://localhost:8080/"
        },
        "id": "QRm54GQ1JtzX",
        "outputId": "12a2d067-0170-4acf-9488-ea360e842ba3"
      },
      "outputs": [
        {
          "name": "stdout",
          "output_type": "stream",
          "text": [
            "+--------------------+-------------+\n",
            "|         Description|sum(Quantity)|\n",
            "+--------------------+-------------+\n",
            "|PAPER CRAFT , LIT...|       -80995|\n",
            "|MEDIUM CERAMIC TO...|       -74494|\n",
            "|ROTATING SILVER A...|        -9376|\n",
            "|              Manual|        -4066|\n",
            "|FAIRY CAKE FLANNE...|        -3150|\n",
            "+--------------------+-------------+\n",
            "only showing top 5 rows\n",
            "\n"
          ]
        }
      ],
      "source": [
        "df_raw = spark.read.csv(\"online_retail.csv\", header=True, inferSchema=True)\n",
        "df_returns = df_raw.filter(col(\"InvoiceNo\").startswith(\"C\"))\n",
        "df_returns.groupBy(\"Description\")\\\n",
        "    .sum(\"Quantity\")\\\n",
        "    .orderBy(col(\"sum(Quantity)\").asc())\\\n",
        "    .show(5)\n",
        "\n",
        "\n"
      ]
    },
    {
      "cell_type": "code",
      "execution_count": null,
      "metadata": {
        "colab": {
          "base_uri": "https://localhost:8080/"
        },
        "id": "VQxAQ3veJtwJ",
        "outputId": "f674f3dd-9032-47b1-ad00-d1912896d017"
      },
      "outputs": [
        {
          "name": "stdout",
          "output_type": "stream",
          "text": [
            "+-----------+------+\n",
            "|OrderBucket| count|\n",
            "+-----------+------+\n",
            "|    101-500| 10539|\n",
            "|     50-100| 15576|\n",
            "|        <50|370651|\n",
            "|       >500|  1118|\n",
            "+-----------+------+\n",
            "\n"
          ]
        }
      ],
      "source": [
        "from pyspark.sql.functions import when\n",
        "\n",
        "df_buckets = df_clean.withColumn(\"OrderBucket\", when(col(\"TotalPrice\") < 50, \"<50\")\n",
        "    .when(col(\"TotalPrice\").between(50, 100), \"50-100\")\n",
        "    .when(col(\"TotalPrice\").between(101, 500), \"101-500\")\n",
        "    .otherwise(\">500\"))\n",
        "\n",
        "df_buckets.groupBy(\"OrderBucket\").count().orderBy(\"OrderBucket\").show()\n"
      ]
    },
    {
      "cell_type": "markdown",
      "metadata": {
        "id": "jGxSv8jVVaLu"
      },
      "source": [
        "Most orders are low-value or mid-value."
      ]
    },
    {
      "cell_type": "code",
      "execution_count": 12,
      "metadata": {
        "id": "XXPGJB419fP",
        "colab": {
          "base_uri": "https://localhost:8080/"
        },
        "outputId": "269bf89e-e453-472f-8fab-8e6aa26245c3"
      },
      "outputs": [
        {
          "output_type": "stream",
          "name": "stdout",
          "text": [
            "+---------+---------+--------------------+--------+-------------------+---------+----------+--------------+\n",
            "|InvoiceNo|StockCode|         Description|Quantity|        InvoiceDate|UnitPrice|CustomerID|       Country|\n",
            "+---------+---------+--------------------+--------+-------------------+---------+----------+--------------+\n",
            "|   536365|   85123A|WHITE HANGING HEA...|       6|2010-12-01 08:26:00|     2.55|   17850.0|United Kingdom|\n",
            "|   536365|    71053| WHITE METAL LANTERN|       6|2010-12-01 08:26:00|     3.39|   17850.0|United Kingdom|\n",
            "|   536365|   84406B|CREAM CUPID HEART...|       8|2010-12-01 08:26:00|     2.75|   17850.0|United Kingdom|\n",
            "|   536365|   84029G|KNITTED UNION FLA...|       6|2010-12-01 08:26:00|     3.39|   17850.0|United Kingdom|\n",
            "|   536365|   84029E|RED WOOLLY HOTTIE...|       6|2010-12-01 08:26:00|     3.39|   17850.0|United Kingdom|\n",
            "|   536365|    22752|SET 7 BABUSHKA NE...|       2|2010-12-01 08:26:00|     7.65|   17850.0|United Kingdom|\n",
            "|   536365|    21730|GLASS STAR FROSTE...|       6|2010-12-01 08:26:00|     4.25|   17850.0|United Kingdom|\n",
            "|   536366|    22633|HAND WARMER UNION...|       6|2010-12-01 08:28:00|     1.85|   17850.0|United Kingdom|\n",
            "|   536366|    22632|HAND WARMER RED P...|       6|2010-12-01 08:28:00|     1.85|   17850.0|United Kingdom|\n",
            "|   536367|    84879|ASSORTED COLOUR B...|      32|2010-12-01 08:34:00|     1.69|   13047.0|United Kingdom|\n",
            "|   536367|    22745|POPPY'S PLAYHOUSE...|       6|2010-12-01 08:34:00|      2.1|   13047.0|United Kingdom|\n",
            "|   536367|    22748|POPPY'S PLAYHOUSE...|       6|2010-12-01 08:34:00|      2.1|   13047.0|United Kingdom|\n",
            "|   536367|    22749|FELTCRAFT PRINCES...|       8|2010-12-01 08:34:00|     3.75|   13047.0|United Kingdom|\n",
            "|   536367|    22310|IVORY KNITTED MUG...|       6|2010-12-01 08:34:00|     1.65|   13047.0|United Kingdom|\n",
            "|   536367|    84969|BOX OF 6 ASSORTED...|       6|2010-12-01 08:34:00|     4.25|   13047.0|United Kingdom|\n",
            "|   536367|    22623|BOX OF VINTAGE JI...|       3|2010-12-01 08:34:00|     4.95|   13047.0|United Kingdom|\n",
            "|   536367|    22622|BOX OF VINTAGE AL...|       2|2010-12-01 08:34:00|     9.95|   13047.0|United Kingdom|\n",
            "|   536367|    21754|HOME BUILDING BLO...|       3|2010-12-01 08:34:00|     5.95|   13047.0|United Kingdom|\n",
            "|   536367|    21755|LOVE BUILDING BLO...|       3|2010-12-01 08:34:00|     5.95|   13047.0|United Kingdom|\n",
            "|   536367|    21777|RECIPE BOX WITH M...|       4|2010-12-01 08:34:00|     7.95|   13047.0|United Kingdom|\n",
            "+---------+---------+--------------------+--------+-------------------+---------+----------+--------------+\n",
            "only showing top 20 rows\n",
            "\n"
          ]
        }
      ],
      "source": [
        "from pyspark.sql.functions import col\n",
        "df_clean = df_clean.filter((col(\"Quantity\") > 0) & (col(\"UnitPrice\") > 0))\n",
        "df_clean.show()"
      ]
    },
    {
      "cell_type": "markdown",
      "metadata": {
        "id": "14d3263b"
      },
      "source": [
        "# Task\n",
        "Analyze customer purchasing behavior, visualize the data, perform an in-depth analysis of returns, and build a recommendation system based on customer purchase history."
      ]
    },
    {
      "cell_type": "markdown",
      "metadata": {
        "id": "4f7d8914"
      },
      "source": [
        "## Analyze customer purchasing behavior\n",
        "\n",
        "### Subtask:\n",
        "Calculate and analyze metrics such as Recency, Frequency, and Monetary Value (RFM) for each customer.\n"
      ]
    },
    {
      "cell_type": "markdown",
      "metadata": {
        "id": "8c801d3a"
      },
      "source": [
        "**Reasoning**:\n",
        "Calculate Recency, Frequency, and Monetary Value for each customer and join them into a single DataFrame.\n",
        "\n"
      ]
    },
    {
      "cell_type": "code",
      "execution_count": null,
      "metadata": {
        "colab": {
          "base_uri": "https://localhost:8080/"
        },
        "id": "Vkxmy4z4ejm4",
        "outputId": "e8afbb7c-afb5-4ff8-faf0-91c0336e5cff"
      },
      "outputs": [
        {
          "name": "stdout",
          "output_type": "stream",
          "text": [
            "+----------+-------+---------+------------------+\n",
            "|CustomerID|Recency|Frequency|     MonetaryValue|\n",
            "+----------+-------+---------+------------------+\n",
            "|   13094.0|     22|       12|1927.3199999999993|\n",
            "|   13973.0|    288|        1|             264.7|\n",
            "|   17884.0|      4|        4| 717.4499999999998|\n",
            "|   13533.0|    183|        3|270.79000000000013|\n",
            "|   13918.0|     50|        2|1212.8399999999997|\n",
            "|   17267.0|    128|        2|317.61999999999995|\n",
            "|   14768.0|     18|        2|             192.6|\n",
            "|   15776.0|    134|        1|241.62000000000003|\n",
            "|   13956.0|      6|        5|1026.4199999999998|\n",
            "|   14473.0|     75|        2|            234.34|\n",
            "|   18114.0|    291|        1|             220.1|\n",
            "|   12493.0|    166|        2|            433.74|\n",
            "|   14024.0|    122|        2|             327.7|\n",
            "|   16596.0|     16|        2|250.14999999999998|\n",
            "|   14285.0|     22|        4|1910.0100000000004|\n",
            "|   16561.0|      6|        2|511.12000000000006|\n",
            "|   17633.0|     32|        4|1324.8399999999997|\n",
            "|   16629.0|     74|        2|417.72999999999985|\n",
            "|   13607.0|     41|        1| 678.0099999999996|\n",
            "|   14452.0|     11|        2|264.44000000000005|\n",
            "+----------+-------+---------+------------------+\n",
            "only showing top 20 rows\n",
            "\n"
          ]
        }
      ],
      "source": [
        "from pyspark.sql.functions import datediff, max, countDistinct, sum, lit, col, round, to_timestamp, year, month, dayofmonth, hour\n",
        "\n",
        "df_clean = df.dropna(subset=[\"Description\", \"CustomerID\"])\n",
        "df_clean = df_clean.filter(~col(\"InvoiceNo\").startswith(\"C\"))\n",
        "df_clean = df_clean.filter((col(\"Quantity\") > 0) & (col(\"UnitPrice\") > 0))\n",
        "df_clean = df_clean.withColumn(\"TotalPrice\", round(col(\"Quantity\") * col(\"UnitPrice\"), 2))\n",
        "df_clean = df_clean.withColumn(\"InvoiceTS\", to_timestamp(col(\"InvoiceDate\")))\n",
        "df_clean = df_clean.withColumn(\"Year\", year(col(\"InvoiceTS\")))\n",
        "df_clean = df_clean.withColumn(\"Month\", month(col(\"InvoiceTS\")))\n",
        "df_clean = df_clean.withColumn(\"Day\", dayofmonth(col(\"InvoiceTS\")))\n",
        "df_clean = df_clean.withColumn(\"Hour\", hour(col(\"InvoiceTS\")))\n",
        "\n",
        "# Calculate Recency\n",
        "recency_df = df_clean.groupBy(\"CustomerID\").agg(\n",
        "    datediff(lit(\"2011-12-10\"), max(\"InvoiceDate\")).alias(\"Recency\")\n",
        ")\n",
        "\n",
        "# Calculate Frequency\n",
        "frequency_df = df_clean.groupBy(\"CustomerID\").agg(\n",
        "    countDistinct(\"InvoiceNo\").alias(\"Frequency\")\n",
        ")\n",
        "\n",
        "# Calculate MonetaryValue\n",
        "monetary_df = df_clean.groupBy(\"CustomerID\").agg(\n",
        "    sum(\"TotalPrice\").alias(\"MonetaryValue\")\n",
        ")\n",
        "\n",
        "# Join the three dataframes\n",
        "rfm_df = recency_df.join(frequency_df, on=\"CustomerID\", how=\"inner\")\n",
        "rfm_df = rfm_df.join(monetary_df, on=\"CustomerID\", how=\"inner\")\n",
        "\n",
        "# Display the RFM DataFrame\n",
        "rfm_df.show()"
      ]
    },
    {
      "cell_type": "markdown",
      "metadata": {
        "id": "6971daee"
      },
      "source": [
        "## Visualize the data\n",
        "\n",
        "### Subtask:\n",
        "Create visualizations such as time series plots of total revenue, bar charts of top countries by revenue, and bar charts of top products by quantity sold.\n"
      ]
    },
    {
      "cell_type": "markdown",
      "metadata": {
        "id": "50e191db"
      },
      "source": [
        "**Reasoning**:\n",
        "Calculate the total revenue for each month and year, collect the results into a pandas DataFrame, and plot the time series. Then calculate total revenue by country, collect into a pandas DataFrame for plotting.\n",
        "\n"
      ]
    },
    {
      "cell_type": "code",
      "execution_count": null,
      "metadata": {
        "colab": {
          "base_uri": "https://localhost:8080/",
          "height": 868
        },
        "id": "9be6934f",
        "outputId": "95611e64-835c-43f0-c304-1d84efc028fa"
      },
      "outputs": [
        {
          "data": {
            "image/png": "[encoded data removed]",
            "text/plain": [
              "<Figure size 1200x600 with 1 Axes>"
            ]
          },
          "metadata": {},
          "output_type": "display_data"
        },
        {
          "data": {
            "image/png": "[encoded data removed]",
            "text/plain": [
              "<Figure size 1200x600 with 1 Axes>"
            ]
          },
          "metadata": {},
          "output_type": "display_data"
        }
      ],
      "source": [
        "from pyspark.sql.functions import sum as spark_sum\n",
        "import matplotlib.pyplot as plt\n",
        "import seaborn as sns\n",
        "\n",
        "# 1. Calculate total revenue per month and year and collect into pandas\n",
        "monthly_revenue = df_clean.groupBy(\"Year\", \"Month\").agg(spark_sum(\"TotalPrice\").alias(\"TotalRevenue\")).orderBy(\"Year\", \"Month\").collect()\n",
        "monthly_revenue_pd = pd.DataFrame(monthly_revenue, columns=[\"Year\", \"Month\", \"TotalRevenue\"])\n",
        "monthly_revenue_pd[\"Date\"] = pd.to_datetime(monthly_revenue_pd[\"Year\"].astype(str) + \"-\" + monthly_revenue_pd[\"Month\"].astype(str))\n",
        "\n",
        "# 2. Plot time series of monthly total revenue\n",
        "plt.figure(figsize=(12, 6))\n",
        "sns.lineplot(data=monthly_revenue_pd, x=\"Date\", y=\"TotalRevenue\")\n",
        "plt.title(\"Monthly Total Revenue Over Time\")\n",
        "plt.xlabel(\"Date\")\n",
        "plt.ylabel(\"Total Revenue\")\n",
        "plt.xticks(rotation=45)\n",
        "plt.tight_layout()\n",
        "plt.show()\n",
        "\n",
        "# 3. Calculate total revenue for each country and collect into pandas\n",
        "country_revenue = df_clean.groupBy(\"Country\").agg(spark_sum(\"TotalPrice\").alias(\"TotalRevenue\")).orderBy(col(\"TotalRevenue\").desc()).collect()\n",
        "country_revenue_pd = pd.DataFrame(country_revenue, columns=[\"Country\", \"TotalRevenue\"])\n",
        "\n",
        "# 4. Create a bar chart showing total revenue for top countries\n",
        "plt.figure(figsize=(12, 6))\n",
        "sns.barplot(data=country_revenue_pd.head(10), x=\"Country\", y=\"TotalRevenue\")\n",
        "plt.title(\"Top 10 Countries by Total Revenue\")\n",
        "plt.xlabel(\"Country\")\n",
        "plt.ylabel(\"Total Revenue\")\n",
        "plt.xticks(rotation=45)\n",
        "plt.tight_layout()\n",
        "plt.show()"
      ]
    },
    {
      "cell_type": "markdown",
      "metadata": {
        "id": "3c92b1a8"
      },
      "source": [
        "**Reasoning**:\n",
        "Calculate the total quantity sold for each product description, sort the results in descending order, collect into a pandas DataFrame, and plot a bar chart for the top products.\n",
        "\n"
      ]
    },
    {
      "cell_type": "code",
      "execution_count": null,
      "metadata": {
        "colab": {
          "base_uri": "https://localhost:8080/",
          "height": 443
        },
        "id": "e067409d",
        "outputId": "cccd807a-b321-4e75-c90e-2da509b6a506"
      },
      "outputs": [
        {
          "data": {
            "image/png": "[encoded data removed]",
            "text/plain": [
              "<Figure size 1200x600 with 1 Axes>"
            ]
          },
          "metadata": {},
          "output_type": "display_data"
        }
      ],
      "source": [
        "# 5. Calculate total quantity sold for each product description and collect into pandas\n",
        "product_quantity = df_clean.groupBy(\"Description\").agg(spark_sum(\"Quantity\").alias(\"TotalQuantity\")).orderBy(col(\"TotalQuantity\").desc()).collect()\n",
        "product_quantity_pd = pd.DataFrame(product_quantity, columns=[\"Description\", \"TotalQuantity\"])\n",
        "\n",
        "# 6. Generate a bar chart displaying total quantity sold for top products\n",
        "plt.figure(figsize=(12, 6))\n",
        "sns.barplot(data=product_quantity_pd.head(10), x=\"Description\", y=\"TotalQuantity\")\n",
        "plt.title(\"Top 10 Products by Quantity Sold\")\n",
        "plt.xlabel(\"Product Description\")\n",
        "plt.ylabel(\"Total Quantity Sold\")\n",
        "plt.xticks(rotation=90)\n",
        "plt.tight_layout()\n",
        "plt.show()"
      ]
    },
    {
      "cell_type": "markdown",
      "source": [
        "Reasoning: Calculate the average total price for each month and year, collect the results into a pandas DataFrame, and plot the time series."
      ],
      "metadata": {
        "id": "Ni44rLSMp4h4"
      }
    },
    {
      "cell_type": "code",
      "source": [
        "from pyspark.sql.functions import avg\n",
        "import matplotlib.pyplot as plt\n",
        "import pandas as pd\n",
        "import seaborn as sns\n",
        "from pyspark.sql.functions import col\n",
        "\n",
        "# Calculate average total price per month and year and collect into pandas\n",
        "monthly_avg_order_value = df_clean.groupBy(\"Year\", \"Month\").agg(avg(\"TotalPrice\").alias(\"AverageOrderValue\")).orderBy(\"Year\", \"Month\").collect()\n",
        "monthly_avg_order_value_pd = pd.DataFrame(monthly_avg_order_value, columns=[\"Year\", \"Month\", \"AverageOrderValue\"])\n",
        "monthly_avg_order_value_pd[\"Date\"] = pd.to_datetime(monthly_avg_order_value_pd[\"Year\"].astype(str) + \"-\" + monthly_avg_order_value_pd[\"Month\"].astype(str))\n",
        "\n",
        "# Plot time series of monthly average order value\n",
        "plt.figure(figsize=(12, 6))\n",
        "sns.lineplot(data=monthly_avg_order_value_pd, x=\"Date\", y=\"AverageOrderValue\")\n",
        "plt.title(\"Monthly Average Order Value Over Time\")\n",
        "plt.xlabel(\"Date\")\n",
        "plt.ylabel(\"Average Order Value\")\n",
        "plt.xticks(rotation=45)\n",
        "plt.tight_layout()\n",
        "plt.show()"
      ],
      "metadata": {
        "colab": {
          "base_uri": "https://localhost:8080/",
          "height": 442
        },
        "id": "S6Z7xWowqAzx",
        "outputId": "20c5e700-f833-4f42-ae56-e2240a260da2"
      },
      "execution_count": 17,
      "outputs": [
        {
          "output_type": "display_data",
          "data": {
            "text/plain": [
              "<Figure size 1200x600 with 1 Axes>"
            ],
            "image/png": "[encoded data removed]"
          },
          "metadata": {}
        }
      ]
    },
    {
      "cell_type": "markdown",
      "metadata": {
        "id": "708cf128"
      },
      "source": [
        "## Perform in-depth analysis of returns\n",
        "\n",
        "### Subtask:\n",
        "Analyze the characteristics of returned items, such as the most frequently returned products and the reasons for returns if available in the data.\n"
      ]
    },
    {
      "cell_type": "markdown",
      "metadata": {
        "id": "8467c1b8"
      },
      "source": [
        "**Reasoning**:\n",
        "Filter the original DataFrame to get returned items, group by description, sum the quantities, order by sum of quantity in ascending order, and show the top 10.\n",
        "\n"
      ]
    },
    {
      "cell_type": "code",
      "execution_count": null,
      "metadata": {
        "colab": {
          "base_uri": "https://localhost:8080/"
        },
        "id": "Sb1H3ESle_kE",
        "outputId": "f7f34bfd-0e89-41d4-955e-c28c31c73c3d"
      },
      "outputs": [
        {
          "name": "stdout",
          "output_type": "stream",
          "text": [
            "+-----------------------------------+-------------+\n",
            "|Description                        |sum(Quantity)|\n",
            "+-----------------------------------+-------------+\n",
            "|PAPER CRAFT , LITTLE BIRDIE        |-80995       |\n",
            "|MEDIUM CERAMIC TOP STORAGE JAR     |-74494       |\n",
            "|ROTATING SILVER ANGELS T-LIGHT HLDR|-9376        |\n",
            "|Manual                             |-4066        |\n",
            "|FAIRY CAKE FLANNEL ASSORTED COLOUR |-3150        |\n",
            "|PINK BLUE FELT CRAFT TRINKET BOX   |-2617        |\n",
            "|WHITE HANGING HEART T-LIGHT HOLDER |-2578        |\n",
            "|GIN + TONIC DIET METAL SIGN        |-2030        |\n",
            "|HERB MARKER BASIL                  |-1527        |\n",
            "|FELTCRAFT DOLL MOLLY               |-1447        |\n",
            "+-----------------------------------+-------------+\n",
            "only showing top 10 rows\n",
            "\n"
          ]
        }
      ],
      "source": [
        "from pyspark.sql.functions import col\n",
        "\n",
        "df_raw = spark.read.csv(\"online_retail.csv\", header=True, inferSchema=True)\n",
        "\n",
        "df_returns = df_raw.filter(col(\"InvoiceNo\").startswith(\"C\"))\n",
        "returned_item_quantities = df_returns.groupBy(\"Description\")\\\n",
        "    .sum(\"Quantity\")\\\n",
        "    .orderBy(col(\"sum(Quantity)\").asc())\n",
        "\n",
        "returned_item_quantities.show(10, truncate=False)"
      ]
    }
  ],
  "metadata": {
    "colab": {
      "provenance": []
    },
    "kernelspec": {
      "display_name": "Python 3",
      "name": "python3"
    },
    "language_info": {
      "name": "python"
    }
  },
  "nbformat": 4,
  "nbformat_minor": 0
}